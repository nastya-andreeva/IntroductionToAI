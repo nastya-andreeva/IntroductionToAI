{
  "nbformat": 4,
  "nbformat_minor": 0,
  "metadata": {
    "colab": {
      "provenance": [],
      "authorship_tag": "ABX9TyOWJPMrxweIhirQnJRECeZK",
      "include_colab_link": true
    },
    "kernelspec": {
      "name": "python3",
      "display_name": "Python 3"
    },
    "language_info": {
      "name": "python"
    }
  },
  "cells": [
    {
      "cell_type": "markdown",
      "metadata": {
        "id": "view-in-github",
        "colab_type": "text"
      },
      "source": [
        "<a href=\"https://colab.research.google.com/github/nastya-andreeva/IntroductionToAI/blob/main/lab4.ipynb\" target=\"_parent\"><img src=\"https://colab.research.google.com/assets/colab-badge.svg\" alt=\"Open In Colab\"/></a>"
      ]
    },
    {
      "cell_type": "markdown",
      "source": [
        "**ЛАБОРАТОРНАЯ РАБОТА 4**\n",
        "\n",
        "Андреева Анастасия\n",
        "\n",
        "Группа: БИВТ-22-СП-3\n",
        "\n",
        "Датасет: Application_Data"
      ],
      "metadata": {
        "id": "77QM51_5-1nr"
      }
    },
    {
      "cell_type": "markdown",
      "source": [
        "# Импорт данных"
      ],
      "metadata": {
        "id": "LDnDjukE-7sk"
      }
    },
    {
      "cell_type": "markdown",
      "source": [
        "*1) Загрузить необходимые данные к себе и считать (read) их в переменную.*"
      ],
      "metadata": {
        "id": "aY5vh-JZ-80q"
      }
    },
    {
      "cell_type": "code",
      "source": [
        "import pandas as pd\n",
        "\n",
        "data = pd.read_csv('Application_Data.csv', sep=',')\n",
        "data.head()"
      ],
      "metadata": {
        "colab": {
          "base_uri": "https://localhost:8080/",
          "height": 429
        },
        "id": "bA2F5H4-_I00",
        "outputId": "48ee287c-56ba-463f-9bd8-f7cd376078ef"
      },
      "execution_count": 13,
      "outputs": [
        {
          "output_type": "execute_result",
          "data": {
            "text/plain": [
              "   Applicant_ID Applicant_Gender  Owned_Car  Owned_Realty  Total_Children  \\\n",
              "0       5008806          M                1             1               0   \n",
              "1       5008808          F                0             1               0   \n",
              "2       5008809          F                0             1               0   \n",
              "3       5008810          F                0             1               0   \n",
              "4       5008811          F                0             1               0   \n",
              "\n",
              "   Total_Income                                        Income_Type  \\\n",
              "0        112500  Working                                       ...   \n",
              "1        270000  Commercial associate                          ...   \n",
              "2        270000  Commercial associate                          ...   \n",
              "3        270000  Commercial associate                          ...   \n",
              "4        270000  Commercial associate                          ...   \n",
              "\n",
              "                                      Education_Type  \\\n",
              "0  Secondary / secondary special                 ...   \n",
              "1  Secondary / secondary special                 ...   \n",
              "2  Secondary / secondary special                 ...   \n",
              "3  Secondary / secondary special                 ...   \n",
              "4  Secondary / secondary special                 ...   \n",
              "\n",
              "                                       Family_Status  \\\n",
              "0  Married                                       ...   \n",
              "1  Single / not married                          ...   \n",
              "2  Single / not married                          ...   \n",
              "3  Single / not married                          ...   \n",
              "4  Single / not married                          ...   \n",
              "\n",
              "                                        Housing_Type  ...  Owned_Work_Phone  \\\n",
              "0  House / apartment                             ...  ...                 0   \n",
              "1  House / apartment                             ...  ...                 0   \n",
              "2  House / apartment                             ...  ...                 0   \n",
              "3  House / apartment                             ...  ...                 0   \n",
              "4  House / apartment                             ...  ...                 0   \n",
              "\n",
              "   Owned_Phone  Owned_Email  \\\n",
              "0            0            0   \n",
              "1            1            1   \n",
              "2            1            1   \n",
              "3            1            1   \n",
              "4            1            1   \n",
              "\n",
              "                                           Job_Title Total_Family_Members  \\\n",
              "0  Security staff                                ...                    2   \n",
              "1  Sales staff                                   ...                    1   \n",
              "2  Sales staff                                   ...                    1   \n",
              "3  Sales staff                                   ...                    1   \n",
              "4  Sales staff                                   ...                    1   \n",
              "\n",
              "   Applicant_Age  Years_of_Working  Total_Bad_Debt  Total_Good_Debt  Status  \n",
              "0             59                 4               0               30       1  \n",
              "1             53                 9               0                5       1  \n",
              "2             53                 9               0                5       1  \n",
              "3             53                 9               0               27       1  \n",
              "4             53                 9               0               39       1  \n",
              "\n",
              "[5 rows x 21 columns]"
            ],
            "text/html": [
              "\n",
              "  <div id=\"df-5f7f2eba-555c-4dae-9ef3-466d9fc0a781\" class=\"colab-df-container\">\n",
              "    <div>\n",
              "<style scoped>\n",
              "    .dataframe tbody tr th:only-of-type {\n",
              "        vertical-align: middle;\n",
              "    }\n",
              "\n",
              "    .dataframe tbody tr th {\n",
              "        vertical-align: top;\n",
              "    }\n",
              "\n",
              "    .dataframe thead th {\n",
              "        text-align: right;\n",
              "    }\n",
              "</style>\n",
              "<table border=\"1\" class=\"dataframe\">\n",
              "  <thead>\n",
              "    <tr style=\"text-align: right;\">\n",
              "      <th></th>\n",
              "      <th>Applicant_ID</th>\n",
              "      <th>Applicant_Gender</th>\n",
              "      <th>Owned_Car</th>\n",
              "      <th>Owned_Realty</th>\n",
              "      <th>Total_Children</th>\n",
              "      <th>Total_Income</th>\n",
              "      <th>Income_Type</th>\n",
              "      <th>Education_Type</th>\n",
              "      <th>Family_Status</th>\n",
              "      <th>Housing_Type</th>\n",
              "      <th>...</th>\n",
              "      <th>Owned_Work_Phone</th>\n",
              "      <th>Owned_Phone</th>\n",
              "      <th>Owned_Email</th>\n",
              "      <th>Job_Title</th>\n",
              "      <th>Total_Family_Members</th>\n",
              "      <th>Applicant_Age</th>\n",
              "      <th>Years_of_Working</th>\n",
              "      <th>Total_Bad_Debt</th>\n",
              "      <th>Total_Good_Debt</th>\n",
              "      <th>Status</th>\n",
              "    </tr>\n",
              "  </thead>\n",
              "  <tbody>\n",
              "    <tr>\n",
              "      <th>0</th>\n",
              "      <td>5008806</td>\n",
              "      <td>M</td>\n",
              "      <td>1</td>\n",
              "      <td>1</td>\n",
              "      <td>0</td>\n",
              "      <td>112500</td>\n",
              "      <td>Working                                       ...</td>\n",
              "      <td>Secondary / secondary special                 ...</td>\n",
              "      <td>Married                                       ...</td>\n",
              "      <td>House / apartment                             ...</td>\n",
              "      <td>...</td>\n",
              "      <td>0</td>\n",
              "      <td>0</td>\n",
              "      <td>0</td>\n",
              "      <td>Security staff                                ...</td>\n",
              "      <td>2</td>\n",
              "      <td>59</td>\n",
              "      <td>4</td>\n",
              "      <td>0</td>\n",
              "      <td>30</td>\n",
              "      <td>1</td>\n",
              "    </tr>\n",
              "    <tr>\n",
              "      <th>1</th>\n",
              "      <td>5008808</td>\n",
              "      <td>F</td>\n",
              "      <td>0</td>\n",
              "      <td>1</td>\n",
              "      <td>0</td>\n",
              "      <td>270000</td>\n",
              "      <td>Commercial associate                          ...</td>\n",
              "      <td>Secondary / secondary special                 ...</td>\n",
              "      <td>Single / not married                          ...</td>\n",
              "      <td>House / apartment                             ...</td>\n",
              "      <td>...</td>\n",
              "      <td>0</td>\n",
              "      <td>1</td>\n",
              "      <td>1</td>\n",
              "      <td>Sales staff                                   ...</td>\n",
              "      <td>1</td>\n",
              "      <td>53</td>\n",
              "      <td>9</td>\n",
              "      <td>0</td>\n",
              "      <td>5</td>\n",
              "      <td>1</td>\n",
              "    </tr>\n",
              "    <tr>\n",
              "      <th>2</th>\n",
              "      <td>5008809</td>\n",
              "      <td>F</td>\n",
              "      <td>0</td>\n",
              "      <td>1</td>\n",
              "      <td>0</td>\n",
              "      <td>270000</td>\n",
              "      <td>Commercial associate                          ...</td>\n",
              "      <td>Secondary / secondary special                 ...</td>\n",
              "      <td>Single / not married                          ...</td>\n",
              "      <td>House / apartment                             ...</td>\n",
              "      <td>...</td>\n",
              "      <td>0</td>\n",
              "      <td>1</td>\n",
              "      <td>1</td>\n",
              "      <td>Sales staff                                   ...</td>\n",
              "      <td>1</td>\n",
              "      <td>53</td>\n",
              "      <td>9</td>\n",
              "      <td>0</td>\n",
              "      <td>5</td>\n",
              "      <td>1</td>\n",
              "    </tr>\n",
              "    <tr>\n",
              "      <th>3</th>\n",
              "      <td>5008810</td>\n",
              "      <td>F</td>\n",
              "      <td>0</td>\n",
              "      <td>1</td>\n",
              "      <td>0</td>\n",
              "      <td>270000</td>\n",
              "      <td>Commercial associate                          ...</td>\n",
              "      <td>Secondary / secondary special                 ...</td>\n",
              "      <td>Single / not married                          ...</td>\n",
              "      <td>House / apartment                             ...</td>\n",
              "      <td>...</td>\n",
              "      <td>0</td>\n",
              "      <td>1</td>\n",
              "      <td>1</td>\n",
              "      <td>Sales staff                                   ...</td>\n",
              "      <td>1</td>\n",
              "      <td>53</td>\n",
              "      <td>9</td>\n",
              "      <td>0</td>\n",
              "      <td>27</td>\n",
              "      <td>1</td>\n",
              "    </tr>\n",
              "    <tr>\n",
              "      <th>4</th>\n",
              "      <td>5008811</td>\n",
              "      <td>F</td>\n",
              "      <td>0</td>\n",
              "      <td>1</td>\n",
              "      <td>0</td>\n",
              "      <td>270000</td>\n",
              "      <td>Commercial associate                          ...</td>\n",
              "      <td>Secondary / secondary special                 ...</td>\n",
              "      <td>Single / not married                          ...</td>\n",
              "      <td>House / apartment                             ...</td>\n",
              "      <td>...</td>\n",
              "      <td>0</td>\n",
              "      <td>1</td>\n",
              "      <td>1</td>\n",
              "      <td>Sales staff                                   ...</td>\n",
              "      <td>1</td>\n",
              "      <td>53</td>\n",
              "      <td>9</td>\n",
              "      <td>0</td>\n",
              "      <td>39</td>\n",
              "      <td>1</td>\n",
              "    </tr>\n",
              "  </tbody>\n",
              "</table>\n",
              "<p>5 rows × 21 columns</p>\n",
              "</div>\n",
              "    <div class=\"colab-df-buttons\">\n",
              "\n",
              "  <div class=\"colab-df-container\">\n",
              "    <button class=\"colab-df-convert\" onclick=\"convertToInteractive('df-5f7f2eba-555c-4dae-9ef3-466d9fc0a781')\"\n",
              "            title=\"Convert this dataframe to an interactive table.\"\n",
              "            style=\"display:none;\">\n",
              "\n",
              "  <svg xmlns=\"http://www.w3.org/2000/svg\" height=\"24px\" viewBox=\"0 -960 960 960\">\n",
              "    <path d=\"M120-120v-720h720v720H120Zm60-500h600v-160H180v160Zm220 220h160v-160H400v160Zm0 220h160v-160H400v160ZM180-400h160v-160H180v160Zm440 0h160v-160H620v160ZM180-180h160v-160H180v160Zm440 0h160v-160H620v160Z\"/>\n",
              "  </svg>\n",
              "    </button>\n",
              "\n",
              "  <style>\n",
              "    .colab-df-container {\n",
              "      display:flex;\n",
              "      gap: 12px;\n",
              "    }\n",
              "\n",
              "    .colab-df-convert {\n",
              "      background-color: #E8F0FE;\n",
              "      border: none;\n",
              "      border-radius: 50%;\n",
              "      cursor: pointer;\n",
              "      display: none;\n",
              "      fill: #1967D2;\n",
              "      height: 32px;\n",
              "      padding: 0 0 0 0;\n",
              "      width: 32px;\n",
              "    }\n",
              "\n",
              "    .colab-df-convert:hover {\n",
              "      background-color: #E2EBFA;\n",
              "      box-shadow: 0px 1px 2px rgba(60, 64, 67, 0.3), 0px 1px 3px 1px rgba(60, 64, 67, 0.15);\n",
              "      fill: #174EA6;\n",
              "    }\n",
              "\n",
              "    .colab-df-buttons div {\n",
              "      margin-bottom: 4px;\n",
              "    }\n",
              "\n",
              "    [theme=dark] .colab-df-convert {\n",
              "      background-color: #3B4455;\n",
              "      fill: #D2E3FC;\n",
              "    }\n",
              "\n",
              "    [theme=dark] .colab-df-convert:hover {\n",
              "      background-color: #434B5C;\n",
              "      box-shadow: 0px 1px 3px 1px rgba(0, 0, 0, 0.15);\n",
              "      filter: drop-shadow(0px 1px 2px rgba(0, 0, 0, 0.3));\n",
              "      fill: #FFFFFF;\n",
              "    }\n",
              "  </style>\n",
              "\n",
              "    <script>\n",
              "      const buttonEl =\n",
              "        document.querySelector('#df-5f7f2eba-555c-4dae-9ef3-466d9fc0a781 button.colab-df-convert');\n",
              "      buttonEl.style.display =\n",
              "        google.colab.kernel.accessAllowed ? 'block' : 'none';\n",
              "\n",
              "      async function convertToInteractive(key) {\n",
              "        const element = document.querySelector('#df-5f7f2eba-555c-4dae-9ef3-466d9fc0a781');\n",
              "        const dataTable =\n",
              "          await google.colab.kernel.invokeFunction('convertToInteractive',\n",
              "                                                    [key], {});\n",
              "        if (!dataTable) return;\n",
              "\n",
              "        const docLinkHtml = 'Like what you see? Visit the ' +\n",
              "          '<a target=\"_blank\" href=https://colab.research.google.com/notebooks/data_table.ipynb>data table notebook</a>'\n",
              "          + ' to learn more about interactive tables.';\n",
              "        element.innerHTML = '';\n",
              "        dataTable['output_type'] = 'display_data';\n",
              "        await google.colab.output.renderOutput(dataTable, element);\n",
              "        const docLink = document.createElement('div');\n",
              "        docLink.innerHTML = docLinkHtml;\n",
              "        element.appendChild(docLink);\n",
              "      }\n",
              "    </script>\n",
              "  </div>\n",
              "\n",
              "\n",
              "<div id=\"df-2e06a553-aa89-48c3-ac4d-793b63b15818\">\n",
              "  <button class=\"colab-df-quickchart\" onclick=\"quickchart('df-2e06a553-aa89-48c3-ac4d-793b63b15818')\"\n",
              "            title=\"Suggest charts\"\n",
              "            style=\"display:none;\">\n",
              "\n",
              "<svg xmlns=\"http://www.w3.org/2000/svg\" height=\"24px\"viewBox=\"0 0 24 24\"\n",
              "     width=\"24px\">\n",
              "    <g>\n",
              "        <path d=\"M19 3H5c-1.1 0-2 .9-2 2v14c0 1.1.9 2 2 2h14c1.1 0 2-.9 2-2V5c0-1.1-.9-2-2-2zM9 17H7v-7h2v7zm4 0h-2V7h2v10zm4 0h-2v-4h2v4z\"/>\n",
              "    </g>\n",
              "</svg>\n",
              "  </button>\n",
              "\n",
              "<style>\n",
              "  .colab-df-quickchart {\n",
              "      --bg-color: #E8F0FE;\n",
              "      --fill-color: #1967D2;\n",
              "      --hover-bg-color: #E2EBFA;\n",
              "      --hover-fill-color: #174EA6;\n",
              "      --disabled-fill-color: #AAA;\n",
              "      --disabled-bg-color: #DDD;\n",
              "  }\n",
              "\n",
              "  [theme=dark] .colab-df-quickchart {\n",
              "      --bg-color: #3B4455;\n",
              "      --fill-color: #D2E3FC;\n",
              "      --hover-bg-color: #434B5C;\n",
              "      --hover-fill-color: #FFFFFF;\n",
              "      --disabled-bg-color: #3B4455;\n",
              "      --disabled-fill-color: #666;\n",
              "  }\n",
              "\n",
              "  .colab-df-quickchart {\n",
              "    background-color: var(--bg-color);\n",
              "    border: none;\n",
              "    border-radius: 50%;\n",
              "    cursor: pointer;\n",
              "    display: none;\n",
              "    fill: var(--fill-color);\n",
              "    height: 32px;\n",
              "    padding: 0;\n",
              "    width: 32px;\n",
              "  }\n",
              "\n",
              "  .colab-df-quickchart:hover {\n",
              "    background-color: var(--hover-bg-color);\n",
              "    box-shadow: 0 1px 2px rgba(60, 64, 67, 0.3), 0 1px 3px 1px rgba(60, 64, 67, 0.15);\n",
              "    fill: var(--button-hover-fill-color);\n",
              "  }\n",
              "\n",
              "  .colab-df-quickchart-complete:disabled,\n",
              "  .colab-df-quickchart-complete:disabled:hover {\n",
              "    background-color: var(--disabled-bg-color);\n",
              "    fill: var(--disabled-fill-color);\n",
              "    box-shadow: none;\n",
              "  }\n",
              "\n",
              "  .colab-df-spinner {\n",
              "    border: 2px solid var(--fill-color);\n",
              "    border-color: transparent;\n",
              "    border-bottom-color: var(--fill-color);\n",
              "    animation:\n",
              "      spin 1s steps(1) infinite;\n",
              "  }\n",
              "\n",
              "  @keyframes spin {\n",
              "    0% {\n",
              "      border-color: transparent;\n",
              "      border-bottom-color: var(--fill-color);\n",
              "      border-left-color: var(--fill-color);\n",
              "    }\n",
              "    20% {\n",
              "      border-color: transparent;\n",
              "      border-left-color: var(--fill-color);\n",
              "      border-top-color: var(--fill-color);\n",
              "    }\n",
              "    30% {\n",
              "      border-color: transparent;\n",
              "      border-left-color: var(--fill-color);\n",
              "      border-top-color: var(--fill-color);\n",
              "      border-right-color: var(--fill-color);\n",
              "    }\n",
              "    40% {\n",
              "      border-color: transparent;\n",
              "      border-right-color: var(--fill-color);\n",
              "      border-top-color: var(--fill-color);\n",
              "    }\n",
              "    60% {\n",
              "      border-color: transparent;\n",
              "      border-right-color: var(--fill-color);\n",
              "    }\n",
              "    80% {\n",
              "      border-color: transparent;\n",
              "      border-right-color: var(--fill-color);\n",
              "      border-bottom-color: var(--fill-color);\n",
              "    }\n",
              "    90% {\n",
              "      border-color: transparent;\n",
              "      border-bottom-color: var(--fill-color);\n",
              "    }\n",
              "  }\n",
              "</style>\n",
              "\n",
              "  <script>\n",
              "    async function quickchart(key) {\n",
              "      const quickchartButtonEl =\n",
              "        document.querySelector('#' + key + ' button');\n",
              "      quickchartButtonEl.disabled = true;  // To prevent multiple clicks.\n",
              "      quickchartButtonEl.classList.add('colab-df-spinner');\n",
              "      try {\n",
              "        const charts = await google.colab.kernel.invokeFunction(\n",
              "            'suggestCharts', [key], {});\n",
              "      } catch (error) {\n",
              "        console.error('Error during call to suggestCharts:', error);\n",
              "      }\n",
              "      quickchartButtonEl.classList.remove('colab-df-spinner');\n",
              "      quickchartButtonEl.classList.add('colab-df-quickchart-complete');\n",
              "    }\n",
              "    (() => {\n",
              "      let quickchartButtonEl =\n",
              "        document.querySelector('#df-2e06a553-aa89-48c3-ac4d-793b63b15818 button');\n",
              "      quickchartButtonEl.style.display =\n",
              "        google.colab.kernel.accessAllowed ? 'block' : 'none';\n",
              "    })();\n",
              "  </script>\n",
              "</div>\n",
              "    </div>\n",
              "  </div>\n"
            ],
            "application/vnd.google.colaboratory.intrinsic+json": {
              "type": "dataframe",
              "variable_name": "data"
            }
          },
          "metadata": {},
          "execution_count": 13
        }
      ]
    },
    {
      "cell_type": "markdown",
      "source": [
        "# Задача"
      ],
      "metadata": {
        "id": "lMhuo5_6_XiU"
      }
    },
    {
      "cell_type": "markdown",
      "source": [
        "*2) Понять, у вас задача классификации (бинарной или многоклассовой) или регрессии.*"
      ],
      "metadata": {
        "id": "CVzL_8Lf_bHJ"
      }
    },
    {
      "cell_type": "markdown",
      "source": [
        "Целевая переменная - Status. Она может принимать только значения 0 или 1. Следовательно, это задача бинарной классификации."
      ],
      "metadata": {
        "id": "XNJ5nBm7_fr9"
      }
    },
    {
      "cell_type": "markdown",
      "source": [
        "# Предобработка данных"
      ],
      "metadata": {
        "id": "_cJR7bGo_tPC"
      }
    },
    {
      "cell_type": "markdown",
      "source": [
        "*А. Разделить выборку на тренировочную (train) и тестовую (test). Обратите внимание, что обучать скейлеры и определять, какими значениями вы будете заполнять пропуски, вы будете на train выборке, а применять и на train, и на test.*"
      ],
      "metadata": {
        "id": "U_IyEp_B_vix"
      }
    },
    {
      "cell_type": "code",
      "source": [
        "from sklearn.model_selection import train_test_split\n",
        "\n",
        "X = data.drop(columns=['Status', 'Applicant_ID'])  # признаки, за исключением Status и Applicant_ID\n",
        "y = data['Status'] # целевая переменная\n",
        "\n",
        "X_train, X_test, y_train, y_test = train_test_split(X, y, test_size=0.2, random_state=42, stratify=y) # само разделение\n",
        "\n",
        "print(f\"Размер train выборки: {X_train.shape}\") # строки столбцы\n",
        "print(f\"Размер test выборки: {X_test.shape}\")"
      ],
      "metadata": {
        "colab": {
          "base_uri": "https://localhost:8080/"
        },
        "id": "58ZbVSNt_xhI",
        "outputId": "185117cb-7f0b-4817-9d2a-43495b176694"
      },
      "execution_count": 14,
      "outputs": [
        {
          "output_type": "stream",
          "name": "stdout",
          "text": [
            "Размер train выборки: (20102, 19)\n",
            "Размер test выборки: (5026, 19)\n"
          ]
        }
      ]
    },
    {
      "cell_type": "markdown",
      "source": [
        "Для разделения данных на тренировочные и тестовые используется метод train_test_split из sklearn. Обычно данные делятся пропорционально 80:20 или 70:30.\n",
        "\n",
        "---\n",
        "\n",
        "\n",
        "test_size=0.2 - 20% в тестовую выборку\n",
        "\n",
        "random_state=42 - случайное разбиение для воспроизводимости (свойство давать один и тот же результат при повторных данных)\n",
        "\n",
        "stratify=y - одинаковое соотношение классов 0 и 1 в train и test (стратифицированное разбиение)"
      ],
      "metadata": {
        "id": "iTHfbuEY_1uj"
      }
    },
    {
      "cell_type": "markdown",
      "source": [
        "*B. Проверить пропуски в данных. Если они есть, заполнить одной из стратегий, предложенных в ноутбуке для семинара №3. P.S. Для численных и категориальных переменных будут разные стратегии.*"
      ],
      "metadata": {
        "id": "iU3ECsqS_4V6"
      }
    },
    {
      "cell_type": "code",
      "source": [
        "missing_values_train = X_train.isnull().sum()\n",
        "missing_values_test = X_test.isnull().sum()\n",
        "print(\"Пропуски в train:\\n\", missing_values_train)\n",
        "print()\n",
        "print(\"Пропуски в test:\\n\", missing_values_test)"
      ],
      "metadata": {
        "colab": {
          "base_uri": "https://localhost:8080/"
        },
        "id": "kzz7o2ff_-n1",
        "outputId": "3fcf8f11-ab79-4b64-d782-4b87dd2e726c"
      },
      "execution_count": 15,
      "outputs": [
        {
          "output_type": "stream",
          "name": "stdout",
          "text": [
            "Пропуски в train:\n",
            " Applicant_Gender        0\n",
            "Owned_Car               0\n",
            "Owned_Realty            0\n",
            "Total_Children          0\n",
            "Total_Income            0\n",
            "Income_Type             0\n",
            "Education_Type          0\n",
            "Family_Status           0\n",
            "Housing_Type            0\n",
            "Owned_Mobile_Phone      0\n",
            "Owned_Work_Phone        0\n",
            "Owned_Phone             0\n",
            "Owned_Email             0\n",
            "Job_Title               0\n",
            "Total_Family_Members    0\n",
            "Applicant_Age           0\n",
            "Years_of_Working        0\n",
            "Total_Bad_Debt          0\n",
            "Total_Good_Debt         0\n",
            "dtype: int64\n",
            "\n",
            "Пропуски в test:\n",
            " Applicant_Gender        0\n",
            "Owned_Car               0\n",
            "Owned_Realty            0\n",
            "Total_Children          0\n",
            "Total_Income            0\n",
            "Income_Type             0\n",
            "Education_Type          0\n",
            "Family_Status           0\n",
            "Housing_Type            0\n",
            "Owned_Mobile_Phone      0\n",
            "Owned_Work_Phone        0\n",
            "Owned_Phone             0\n",
            "Owned_Email             0\n",
            "Job_Title               0\n",
            "Total_Family_Members    0\n",
            "Applicant_Age           0\n",
            "Years_of_Working        0\n",
            "Total_Bad_Debt          0\n",
            "Total_Good_Debt         0\n",
            "dtype: int64\n"
          ]
        }
      ]
    },
    {
      "cell_type": "markdown",
      "source": [
        "Пропусков нет, значит использование стратегий не требуется."
      ],
      "metadata": {
        "id": "LEh93V-9ACPu"
      }
    },
    {
      "cell_type": "markdown",
      "source": [
        "*C. Отнормировать численные переменные (StandardScaler, MinMaxScaler).*"
      ],
      "metadata": {
        "id": "iVojDq7KAGIE"
      }
    },
    {
      "cell_type": "code",
      "source": [
        "from sklearn.preprocessing import StandardScaler\n",
        "\n",
        "num_columns = X_train.select_dtypes(include=['float64', 'int64']).columns # выбираем численные переменные\n",
        "scaler = StandardScaler() # нормализация\n",
        "X_train[num_columns] = scaler.fit_transform(X_train[num_columns])\n",
        "X_test[num_columns] = scaler.transform(X_test[num_columns])\n"
      ],
      "metadata": {
        "id": "Z_E3LDZ0AIDM"
      },
      "execution_count": 16,
      "outputs": []
    },
    {
      "cell_type": "markdown",
      "source": [
        "StandardScaler - масштабирует данные так, чтобы среднее значение было равно 0, а стандартное отклонение было равно 1.\n",
        "\n",
        "fit_transform - вычисляет параметры (среднее и стандратное отклонение) на тренировочных данных.\n",
        "\n",
        "transform - преобразует тестовые данные, используя параметры, вычисленные на тренировочной выборке.\n",
        "\n",
        "\n",
        "---\n",
        "\n",
        "StandardScaler - масштабирует данные, преобразуя их в стандартное нормальное распределение с средним значением 0 и стандартным отклонением 1 (предпочтителен - если признаки близки к нормальному распределению, модель чувствительна к распределению данных, необходимо сохранить данные в изначальном масштабе).\n",
        "MinMaxScaler - масштабирует данные в диапазон от 0 до 1 (или любой другой заданный диапазон) (предпочтителен - данные имеют четко определенный диапазон, все признаки нужно свести к одному масштабу, меньше выбросов или они не имеют влияния).\n",
        "\n",
        "\n",
        "\n",
        "---\n",
        "\n",
        "В датасете есть переменные с большим разбросом (например, Total_Income - диапазон от нескольких тысяч до миллионов), поэтому важно привести данные к стандартному нормальному распределению. MinMaxScaler был бы менее эффективен из-за экстремальных значений, так как он нормализует данные в диапазоне от 0 до 1, исходя из минимальных и максимальных значений."
      ],
      "metadata": {
        "id": "g3eznxGRAK2z"
      }
    },
    {
      "cell_type": "markdown",
      "source": [
        "*D. Закодировать категориальные признаки по одной из стратегий.*"
      ],
      "metadata": {
        "id": "SDUtMlgGAOAz"
      }
    },
    {
      "cell_type": "code",
      "source": [
        "from sklearn.preprocessing import OneHotEncoder\n",
        "\n",
        "cat_columns = X_train.select_dtypes(include=['object', 'category']).columns # находим категориальные столбцы\n",
        "encoder = OneHotEncoder(sparse_output=False, handle_unknown='ignore')\n",
        "# sparse_output - результат в виде плотной матрицы (без разреженной), облегчает конкатенацию дальше\n",
        "# handle_unknown - игнорировать ошибку неизвестных категорий (не было в тренировочных данных)\n",
        "\n",
        "X_train_cat = pd.DataFrame(encoder.fit_transform(X_train[cat_columns]),\n",
        "                           columns=encoder.get_feature_names_out(cat_columns)) # преобразование признаков в train\n",
        "\n",
        "X_test_cat = pd.DataFrame(encoder.transform(X_test[cat_columns]),\n",
        "                          columns=encoder.get_feature_names_out(cat_columns)) # преобразование признаков в test\n",
        "\n",
        "# объединение закодированных данных с числовыми признаками\n",
        "X_train = pd.concat([X_train.drop(columns=cat_columns).reset_index(drop=True), X_train_cat.reset_index(drop=True)], axis=1)\n",
        "X_test = pd.concat([X_test.drop(columns=cat_columns).reset_index(drop=True), X_test_cat.reset_index(drop=True)], axis=1)\n"
      ],
      "metadata": {
        "id": "nDC0YumcAQB7"
      },
      "execution_count": 17,
      "outputs": []
    },
    {
      "cell_type": "markdown",
      "source": [
        "OneHotEncoder - преобразует категориальные признаки в числовой формат. Для каждого уникального значения категориальной переменной создается новый бинарный столбец. Например, признак color со значениями red, green превратится в два столбца color_red, color_green."
      ],
      "metadata": {
        "id": "fcuhLrzUASvR"
      }
    },
    {
      "cell_type": "markdown",
      "source": [
        "# Оформление данных"
      ],
      "metadata": {
        "id": "UAvPgyNzATYJ"
      }
    },
    {
      "cell_type": "markdown",
      "source": [
        "*4) Оформить данные в виде класса Dataset из библиотеки torch (как мы это делали на семинаре), а затем засунуть в Dataloader (тоже делали на семинаре).*"
      ],
      "metadata": {
        "id": "vn0tsNdUAb9G"
      }
    },
    {
      "cell_type": "code",
      "source": [
        "from torch.utils.data import Dataset, DataLoader\n",
        "import torch\n",
        "\n",
        "class CustomDataset(Dataset):\n",
        "#\n",
        "    def __init__(self, X, y): # Х - признаки, у - целевые значения\n",
        "        self.X = X.to_numpy(dtype='float32') # преобразование данных в numpy массивы\n",
        "        self.y = y.to_numpy(dtype='float32')\n",
        "\n",
        "    def __len__(self): # возвращает кол-во примеров в датасете\n",
        "        return len(self.X)\n",
        "\n",
        "    def __getitem__(self, idx): # извлекает пример по индексу idx и преобразует в тензоры PyTorch\n",
        "        features = torch.tensor(self.X[idx], dtype=torch.float32) # извлекает строку признаков X, преобразует в тензор float32\n",
        "        target = torch.tensor(self.y[idx], dtype=torch.float32) # извлекает строку признаков y, преобразует в тензор float32\n",
        "        # тензоры (преобразование нечисловой информации в числовую форму) можно использовать для обучения нейронных сетей\n",
        "        return features, target\n",
        "\n",
        "\n",
        "\n",
        "train_dataset = CustomDataset(X_train, y_train) # признаки и целевые значения\n",
        "test_dataset = CustomDataset(X_test, y_test)\n",
        "\n",
        "train_loader = DataLoader(train_dataset, batch_size=32, shuffle=True)\n",
        "# train_dataset - набор данных для обучения, batch_size=32 - пакет по 32 примера за раз\n",
        "# shuffle=True - перемешивание данных между эпохами (помогает избежать переобучения)\n",
        "test_loader = DataLoader(test_dataset, batch_size=32, shuffle=False)\n"
      ],
      "metadata": {
        "id": "64iYJCjzAmde"
      },
      "execution_count": 27,
      "outputs": []
    },
    {
      "cell_type": "markdown",
      "source": [
        "DataLoader - эффективная загрузка данных, их упаковка в мини-батчи, поддерживает перемешивание данных\n",
        "\n",
        "Батчи - пакеты данных, на которых выполняется обучение модели (множество примеров в виде тензоров)"
      ],
      "metadata": {
        "id": "Th8zEsblPs0A"
      }
    },
    {
      "cell_type": "markdown",
      "source": [
        "# Обучение"
      ],
      "metadata": {
        "id": "Q8v0Mj2cBLhU"
      }
    },
    {
      "cell_type": "markdown",
      "source": [
        "*5) Обучить на тренировочном множестве:*"
      ],
      "metadata": {
        "id": "os50Y73kBNc8"
      }
    },
    {
      "cell_type": "markdown",
      "source": [
        "Потери - разница между предсказаниями модели и реальными значениями\n",
        "\n",
        "Градиенты - производные функции потерь по отношению к параметрам модели (насколько сильно нужно изменить параметры модели, чтобы уменьшить ошибку)\n",
        "\n",
        "Обратное распространение ошибки:\n",
        "\n",
        "1. Прямой проход - вычисляются предсказания модели и вычилсяются потери\n",
        "\n",
        "2. Обратное распространение ошибки - основывается на правиле цепочки из дифференциального исчисления и вычисляет градиенты функции потерь по каждому параметру модели"
      ],
      "metadata": {
        "id": "HbFgSAhJRF3R"
      }
    },
    {
      "cell_type": "code",
      "source": [
        "# model - модель, которая обучается\n",
        "# criterion - функция потерь, вычисляющая ошибку модели\n",
        "# optimizer - оптимизатор, который обновляет параметры модели\n",
        "# num_epochs - кол-во эпох\n",
        "# train_loader - DataLoader для обучающего набора данных\n",
        "# test_loader - DataLoader для тестового набора данных\n",
        "def train_and_evaluate(model, criterion, optimizer, num_epochs, train_loader, test_loader):\n",
        "\n",
        "    train_losses = []\n",
        "    test_losses = []\n",
        "\n",
        "    for epoch in range(num_epochs):\n",
        "        model.train()  # модель в режиме обучения\n",
        "        running_loss = 0.0 # в процессе обучения\n",
        "\n",
        "        for batch_features, batch_targets in train_loader:\n",
        "            optimizer.zero_grad() # обнуляет градиенты всех параметров модели (в Torch они накапливаются на каждом шаге)\n",
        "            batch_targets = batch_targets.view(-1, 1).type(torch.float32)\n",
        "            outputs = model(batch_features) # данные передаются через модель, чтобы получить предсказания\n",
        "            loss = criterion(outputs, batch_targets)\n",
        "            loss.backward() # обратное распространение ошибки\n",
        "            optimizer.step() # обновление параметров на основе вычисленных градиентов\n",
        "            running_loss += loss.item()\n",
        "\n",
        "        train_loss = running_loss / len(train_loader)\n",
        "        train_losses.append(train_loss)\n",
        "\n",
        "        model.eval() # модель в режиме оценки\n",
        "        test_running_loss = 0.0 # тестовый набор данных\n",
        "\n",
        "        with torch.no_grad():  # вычисление градиентов не требуется для тестирования\n",
        "            for batch_features, batch_targets in test_loader:\n",
        "                batch_targets = batch_targets.view(-1, 1).type(torch.float32)\n",
        "                outputs = model(batch_features)\n",
        "                loss = criterion(outputs, batch_targets)\n",
        "                test_running_loss += loss.item()\n",
        "\n",
        "        test_loss = test_running_loss / len(test_loader)\n",
        "        test_losses.append(test_loss)\n",
        "\n",
        "    return train_losses, test_losses"
      ],
      "metadata": {
        "id": "PNLYl1DYBlPe"
      },
      "execution_count": 28,
      "outputs": []
    },
    {
      "cell_type": "markdown",
      "source": [
        "*А. Очень простую однослойную нейросеть с оптимизатором SGD*"
      ],
      "metadata": {
        "id": "Qq5JF7nYBUXd"
      }
    },
    {
      "cell_type": "markdown",
      "source": [
        "Задача оптимизатора - найти такие значения параметров модели, при которых функция потерь достигает минимума"
      ],
      "metadata": {
        "id": "h4IdnWBzVu1I"
      }
    },
    {
      "cell_type": "markdown",
      "source": [
        "SGD - обновляет параметры модели, используя градиенты, вычисленные для ожного примера; фиксированная скорость обучения\n",
        "\n",
        "Adam - позволяет изменять скорость обучения для каждого параметра, использует первый момент (среднее значение градиентов) и второй момент (среднее значение квадратов грвдиентов) для обновления"
      ],
      "metadata": {
        "id": "ugxtYqOtUnM9"
      }
    },
    {
      "cell_type": "code",
      "source": [
        "import torch.nn as nn\n",
        "import torch.optim as optim\n",
        "from torch.nn import BCEWithLogitsLoss\n",
        "\n",
        "class SimpleNN(nn.Module): # создание простой однослойной нейросети\n",
        "\n",
        "    def __init__(self, input_size, num_classes=1): # кол-во входных признаков и кол-во классов\n",
        "        super(SimpleNN, self).__init__()\n",
        "        self.fc = nn.Linear(input_size, 1) # создание первого линейного слоя\n",
        "\n",
        "    def forward(self, x): # определяет, как нейронная сеть будет преобразовывать входные данные через свои слои\n",
        "        return self.fc(x)\n",
        "\n",
        "num_epochs = 150\n",
        "learning_rate= 0.0001\n",
        "\n",
        "model_a = SimpleNN(input_size=X_train.shape[1])\n",
        "\n",
        "criterion_a = BCEWithLogitsLoss()\n",
        "\n",
        "optimizer_a = optim.SGD(model_a.parameters(), lr=learning_rate) # создается SGD"
      ],
      "metadata": {
        "id": "b_f6zCSXBq27"
      },
      "execution_count": 29,
      "outputs": []
    },
    {
      "cell_type": "markdown",
      "source": [
        "BCEWithLogitsLoss - функция потерь для бинарной классификации\n",
        "\n",
        "1. Логит-функция: на вход подаются не вероятности, а необработанные значения (логиты), функция применяет сигмоиду, чтобы преобразовать логиты в вероятности\n",
        "\n",
        "2. Бинарная кросс-энтропия: вычисляется кросс-энтропийная потеря для бинарной классификации - разница между предсказанными вероятности и истинными метками (0 или 1)"
      ],
      "metadata": {
        "id": "Q7ho2OMfVBgE"
      }
    },
    {
      "cell_type": "markdown",
      "source": [
        "*В. Нейросеть посложнее (с 1 скрытым слоем) с оптимизатором Adam*"
      ],
      "metadata": {
        "id": "u3rLBQQHB2N9"
      }
    },
    {
      "cell_type": "markdown",
      "source": [
        "ReLU - преобразует входные данные\n",
        "\n",
        "Если x больше или равно нулю, то ReLU(x) =x\n",
        "\n",
        "Если х меньше нуля, то ReLU(x) = 0"
      ],
      "metadata": {
        "id": "7z7PCMR1WVoG"
      }
    },
    {
      "cell_type": "code",
      "source": [
        "class OneHiddenLayerNN(nn.Module): # создание модели с 1 скрытым слоем\n",
        "    def __init__(self, input_size, hidden_size, num_classes=1):\n",
        "      # input_size - кол-во входных признаков\n",
        "      # hidden_sizes - список, содержащий кол-во нейронов в каждом скрытом слое\n",
        "      # num_classes - кол-во выходных классов (по умолчанию 1 для бинарной классификации)\n",
        "        super(OneHiddenLayerNN, self).__init__()\n",
        "        self.fc1 = nn.Linear(input_size, hidden_size)\n",
        "        self.relu = nn.ReLU()  # функция активации ReLU\n",
        "        self.fc2 = nn.Linear(hidden_size, 1)  # один выходной нейрон для бинарной классификации\n",
        "\n",
        "    def forward(self, x):\n",
        "        x = self.fc1(x)  # через первый слой\n",
        "        x = self.relu(x)  # применяется ReLU, которая добавляет нелинейность\n",
        "        x = self.fc2(x)  # через второй слой\n",
        "        return x\n",
        "\n",
        "num_epochs = 150\n",
        "learning_rate_adam = 0.0001\n",
        "\n",
        "model_b = OneHiddenLayerNN(input_size=X_train.shape[1], hidden_size=64)\n",
        "\n",
        "criterion_b = BCEWithLogitsLoss()\n",
        "\n",
        "optimizer_b = optim.Adam(model_b.parameters(), lr=learning_rate_adam)"
      ],
      "metadata": {
        "id": "itcOS01RB75U"
      },
      "execution_count": 30,
      "outputs": []
    },
    {
      "cell_type": "markdown",
      "source": [
        "*С. Нейросеть еще сложнее (с 3+ скрытыми слоями) с оптимизатором Adam*"
      ],
      "metadata": {
        "id": "Ha-khfHpCKFh"
      }
    },
    {
      "cell_type": "code",
      "source": [
        "class DeepNN(nn.Module): # многослойная нейросеть с 3+ скрытыми слоями\n",
        "    def __init__(self, input_size, hidden_sizes, num_classes=1):\n",
        "        super(DeepNN, self).__init__()\n",
        "\n",
        "        self.layers = nn.ModuleList() # список для хранения всех слоев\n",
        "\n",
        "        self.layers.append(nn.Linear(input_size, hidden_sizes[0]))\n",
        "\n",
        "        for i in range(1, len(hidden_sizes)): # цикл для создания скрытых слоев\n",
        "            self.layers.append(nn.Linear(hidden_sizes[i-1], hidden_sizes[i]))\n",
        "\n",
        "        self.layers.append(nn.Linear(hidden_sizes[-1], 1))\n",
        "\n",
        "        self.relu = nn.ReLU()\n",
        "\n",
        "    def forward(self, x):\n",
        "        for layer in self.layers[:-1]:\n",
        "            x = self.relu(layer(x))\n",
        "\n",
        "        x = self.layers[-1](x)\n",
        "        return x\n",
        "\n",
        "\n",
        "num_epochs = 150\n",
        "learning_rate_adam = 0.0001\n",
        "hidden_sizes_c = [128, 64, 32]\n",
        "\n",
        "model_c = DeepNN(input_size=X_train.shape[1], hidden_sizes=hidden_sizes_c)\n",
        "\n",
        "criterion_c = BCEWithLogitsLoss()\n",
        "\n",
        "\n",
        "optimizer_c = optim.Adam(model_c.parameters(), lr=learning_rate_adam)"
      ],
      "metadata": {
        "id": "jlRSJphKCOv0"
      },
      "execution_count": 31,
      "outputs": []
    },
    {
      "cell_type": "markdown",
      "source": [
        "# Loss"
      ],
      "metadata": {
        "id": "2e-F_4hICa-R"
      }
    },
    {
      "cell_type": "markdown",
      "source": [
        "*6) Посчитайте loss на train и test множествах, в зависимости от эпохи обучения. Провизуализируйте это с помощью библиотеки matplotlib (выйдет так называемая learning curve, кривая обучения модели).*"
      ],
      "metadata": {
        "id": "JSM9IrX0CdBx"
      }
    },
    {
      "cell_type": "code",
      "source": [
        "train_losses_a, test_losses_a = train_and_evaluate(model_a, criterion_a, optimizer_a, num_epochs, train_loader, test_loader)"
      ],
      "metadata": {
        "id": "2mL-2OHHCoSQ"
      },
      "execution_count": 32,
      "outputs": []
    },
    {
      "cell_type": "code",
      "source": [
        "train_losses_b, test_losses_b = train_and_evaluate(model_b, criterion_b, optimizer_b, num_epochs, train_loader, test_loader)"
      ],
      "metadata": {
        "id": "ViZZrH27JqrG"
      },
      "execution_count": 33,
      "outputs": []
    },
    {
      "cell_type": "code",
      "source": [
        "train_losses_c, test_losses_c = train_and_evaluate(model_c, criterion_c, optimizer_c, num_epochs, train_loader, test_loader)"
      ],
      "metadata": {
        "id": "bQA06Wb0JsqJ"
      },
      "execution_count": 34,
      "outputs": []
    },
    {
      "cell_type": "code",
      "source": [
        "import matplotlib.pyplot as plt\n",
        "\n",
        "plt.figure(figsize=(15, 6))\n",
        "\n",
        "# модель A (SGD)\n",
        "plt.plot(train_losses_a, label='Train Loss (Model A - SGD)', color='blue', linewidth=2)\n",
        "plt.plot(test_losses_a, label='Test Loss (Model A - SGD)', color='red', linewidth=2)\n",
        "\n",
        "# модель B (Adam)\n",
        "plt.plot(train_losses_b, label='Train Loss (Model B - Adam)', color='green', linewidth=2)\n",
        "plt.plot(test_losses_b, label='Test Loss (Model B - Adam)', color='orange', linewidth=2)\n",
        "\n",
        "# модель C (Adam)\n",
        "plt.plot(train_losses_c, label='Train Loss (Model C - Adam)', color='purple', linewidth=2)\n",
        "plt.plot(test_losses_c, label='Test Loss (Model C - Adam)', color='pink', linewidth=2)\n",
        "\n",
        "plt.title('Learning Curves')\n",
        "plt.xlabel('Epochs')\n",
        "plt.ylabel('Loss')\n",
        "plt.legend()\n",
        "plt.grid()\n",
        "plt.show()"
      ],
      "metadata": {
        "colab": {
          "base_uri": "https://localhost:8080/",
          "height": 564
        },
        "id": "Pcrd3qVNCvSw",
        "outputId": "6c4efa0a-0809-425e-da9c-2efe07eb0965"
      },
      "execution_count": 37,
      "outputs": [
        {
          "output_type": "display_data",
          "data": {
            "text/plain": [
              "<Figure size 1500x600 with 1 Axes>"
            ],
            "image/png": "[encoded data removed]"
          },
          "metadata": {}
        }
      ]
    },
    {
      "cell_type": "markdown",
      "source": [
        "# Метрики"
      ],
      "metadata": {
        "id": "aRq_2zXKMDfG"
      }
    },
    {
      "cell_type": "markdown",
      "source": [
        "*7) Посчитайте метрики на train и test множествах:*\n",
        "\n",
        "*Для задачи классификации -- Accuracy*"
      ],
      "metadata": {
        "id": "YUPBJ9lNMFgu"
      }
    },
    {
      "cell_type": "code",
      "source": [
        "def calculate_accuracy(model):\n",
        "    model.eval()\n",
        "    with torch.no_grad():\n",
        "        # тренировка\n",
        "        correct_train = 0\n",
        "        total_train = 0\n",
        "\n",
        "        for batch_features, batch_targets in train_loader:  # проходим по тренировочным батчам\n",
        "            outputs_train = model(batch_features)  # получаем предсказания\n",
        "            predicted_train = (torch.sigmoid(outputs_train) >  0.5).float()  # применяем sigmoid для получения вероятностей\n",
        "            total_train += batch_targets.size(0)  # суммируем количество примеров\n",
        "            correct_train += (predicted_train.view(-1) == batch_targets).sum().item()  # считаем количество правильных предсказаний\n",
        "\n",
        "        accuracy_train = correct_train / total_train\n",
        "\n",
        "        # тест\n",
        "        correct_test = 0\n",
        "        total_test = 0\n",
        "\n",
        "        for batch_features_test, batch_targets_test in test_loader:\n",
        "            outputs_test = model(batch_features_test)\n",
        "            predicted_test = (torch.sigmoid(outputs_test) > 0.5).float()\n",
        "            total_test += batch_targets_test.size(0)\n",
        "            correct_test += (predicted_test.view(-1) == batch_targets_test).sum().item()\n",
        "\n",
        "        accuracy_test = correct_test / total_test\n",
        "\n",
        "    return accuracy_train, accuracy_test\n",
        "\n",
        "accuracy_a_train, accuracy_a_test = calculate_accuracy(model_a)\n",
        "accuracy_b_train, accuracy_b_test = calculate_accuracy(model_b)\n",
        "accuracy_c_train, accuracy_c_test = calculate_accuracy(model_c)\n",
        "\n",
        "print(f'Accuracy Model A - Train: {accuracy_a_train:.2f}, Test: {accuracy_a_test:.2f}')\n",
        "print(f'Accuracy Model B - Train: {accuracy_b_train:.2f}, Test: {accuracy_b_test:.2f}')\n",
        "print(f'Accuracy Model C - Train: {accuracy_c_train:.2f}, Test: {accuracy_c_test:.2f}')"
      ],
      "metadata": {
        "colab": {
          "base_uri": "https://localhost:8080/"
        },
        "id": "ACgayl0uMLUk",
        "outputId": "4bce0d65-cfb0-4b78-c80a-0a44910ea89f"
      },
      "execution_count": 36,
      "outputs": [
        {
          "output_type": "stream",
          "name": "stdout",
          "text": [
            "Accuracy Model A - Train: 1.00, Test: 1.00\n",
            "Accuracy Model B - Train: 1.00, Test: 1.00\n",
            "Accuracy Model C - Train: 1.00, Test: 1.00\n"
          ]
        }
      ]
    },
    {
      "cell_type": "markdown",
      "source": [
        "# Сравнение метрик"
      ],
      "metadata": {
        "id": "ZATwzv0bM_-U"
      }
    },
    {
      "cell_type": "markdown",
      "source": [
        "*8) Сравните метрики относительно train/test, так и относительно разных моделей. Ответьте на следующие вопросы:*"
      ],
      "metadata": {
        "id": "hv0kSK9ONCDV"
      }
    },
    {
      "cell_type": "markdown",
      "source": [
        "A. Какая модель справилась лучше с поставленной задачей? Все три модели справились одинаково хорошо.\n",
        "\n",
        "B. Имеет ли место переобучение? Нет, точность на train и test одинакова.\n",
        "\n",
        "C. Имеет ли место недообучение? Нет\n",
        "\n",
        "D. Как можно улучшить метрики моделей? Нет необходимости в улучшениях."
      ],
      "metadata": {
        "id": "PGvPGLo_NT7W"
      }
    }
  ]
}