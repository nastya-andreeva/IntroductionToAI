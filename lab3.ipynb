{
  "nbformat": 4,
  "nbformat_minor": 0,
  "metadata": {
    "colab": {
      "provenance": [],
      "authorship_tag": "ABX9TyMUnTSXxEyVOFoZSPJROLat",
      "include_colab_link": true
    },
    "kernelspec": {
      "name": "python3",
      "display_name": "Python 3"
    },
    "language_info": {
      "name": "python"
    }
  },
  "cells": [
    {
      "cell_type": "markdown",
      "metadata": {
        "id": "view-in-github",
        "colab_type": "text"
      },
      "source": [
        "<a href=\"https://colab.research.google.com/github/nastya-andreeva/IntroductionToAI/blob/main/lab3.ipynb\" target=\"_parent\"><img src=\"https://colab.research.google.com/assets/colab-badge.svg\" alt=\"Open In Colab\"/></a>"
      ]
    },
    {
      "cell_type": "markdown",
      "source": [
        "**ЛАБОРАТОРНАЯ РАБОТА 3**\n",
        "\n",
        "Андреева Анастасия\n",
        "\n",
        "Группа: БИВТ-22-СП-3\n",
        "\n",
        "Датасет: Application_Data"
      ],
      "metadata": {
        "id": "PJaw2BcHaZx4"
      }
    },
    {
      "cell_type": "markdown",
      "source": [
        "# Импорт данных"
      ],
      "metadata": {
        "id": "mKlgda61bVfH"
      }
    },
    {
      "cell_type": "markdown",
      "source": [
        "*1) Загрузить необходимые данные к себе и считать (read) их в переменную.*"
      ],
      "metadata": {
        "id": "iQPI7uRibduG"
      }
    },
    {
      "cell_type": "code",
      "source": [
        "import pandas as pd\n",
        "\n",
        "data = pd.read_csv('Application_Data.csv', sep=',')\n",
        "data.head()"
      ],
      "metadata": {
        "colab": {
          "base_uri": "https://localhost:8080/",
          "height": 429
        },
        "id": "7YEfUalZa-Ck",
        "outputId": "2e0f659b-9a55-49f9-bb1d-3c3c192e6486"
      },
      "execution_count": 267,
      "outputs": [
        {
          "output_type": "execute_result",
          "data": {
            "text/plain": [
              "   Applicant_ID Applicant_Gender  Owned_Car  Owned_Realty  Total_Children  \\\n",
              "0       5008806          M                1             1               0   \n",
              "1       5008808          F                0             1               0   \n",
              "2       5008809          F                0             1               0   \n",
              "3       5008810          F                0             1               0   \n",
              "4       5008811          F                0             1               0   \n",
              "\n",
              "   Total_Income                                        Income_Type  \\\n",
              "0        112500  Working                                       ...   \n",
              "1        270000  Commercial associate                          ...   \n",
              "2        270000  Commercial associate                          ...   \n",
              "3        270000  Commercial associate                          ...   \n",
              "4        270000  Commercial associate                          ...   \n",
              "\n",
              "                                      Education_Type  \\\n",
              "0  Secondary / secondary special                 ...   \n",
              "1  Secondary / secondary special                 ...   \n",
              "2  Secondary / secondary special                 ...   \n",
              "3  Secondary / secondary special                 ...   \n",
              "4  Secondary / secondary special                 ...   \n",
              "\n",
              "                                       Family_Status  \\\n",
              "0  Married                                       ...   \n",
              "1  Single / not married                          ...   \n",
              "2  Single / not married                          ...   \n",
              "3  Single / not married                          ...   \n",
              "4  Single / not married                          ...   \n",
              "\n",
              "                                        Housing_Type  ...  Owned_Work_Phone  \\\n",
              "0  House / apartment                             ...  ...                 0   \n",
              "1  House / apartment                             ...  ...                 0   \n",
              "2  House / apartment                             ...  ...                 0   \n",
              "3  House / apartment                             ...  ...                 0   \n",
              "4  House / apartment                             ...  ...                 0   \n",
              "\n",
              "   Owned_Phone  Owned_Email  \\\n",
              "0            0            0   \n",
              "1            1            1   \n",
              "2            1            1   \n",
              "3            1            1   \n",
              "4            1            1   \n",
              "\n",
              "                                           Job_Title Total_Family_Members  \\\n",
              "0  Security staff                                ...                    2   \n",
              "1  Sales staff                                   ...                    1   \n",
              "2  Sales staff                                   ...                    1   \n",
              "3  Sales staff                                   ...                    1   \n",
              "4  Sales staff                                   ...                    1   \n",
              "\n",
              "   Applicant_Age  Years_of_Working  Total_Bad_Debt  Total_Good_Debt  Status  \n",
              "0             59                 4               0               30       1  \n",
              "1             53                 9               0                5       1  \n",
              "2             53                 9               0                5       1  \n",
              "3             53                 9               0               27       1  \n",
              "4             53                 9               0               39       1  \n",
              "\n",
              "[5 rows x 21 columns]"
            ],
            "text/html": [
              "\n",
              "  <div id=\"df-60dcddf4-2533-4a8c-80a0-a84391bb2b4d\" class=\"colab-df-container\">\n",
              "    <div>\n",
              "<style scoped>\n",
              "    .dataframe tbody tr th:only-of-type {\n",
              "        vertical-align: middle;\n",
              "    }\n",
              "\n",
              "    .dataframe tbody tr th {\n",
              "        vertical-align: top;\n",
              "    }\n",
              "\n",
              "    .dataframe thead th {\n",
              "        text-align: right;\n",
              "    }\n",
              "</style>\n",
              "<table border=\"1\" class=\"dataframe\">\n",
              "  <thead>\n",
              "    <tr style=\"text-align: right;\">\n",
              "      <th></th>\n",
              "      <th>Applicant_ID</th>\n",
              "      <th>Applicant_Gender</th>\n",
              "      <th>Owned_Car</th>\n",
              "      <th>Owned_Realty</th>\n",
              "      <th>Total_Children</th>\n",
              "      <th>Total_Income</th>\n",
              "      <th>Income_Type</th>\n",
              "      <th>Education_Type</th>\n",
              "      <th>Family_Status</th>\n",
              "      <th>Housing_Type</th>\n",
              "      <th>...</th>\n",
              "      <th>Owned_Work_Phone</th>\n",
              "      <th>Owned_Phone</th>\n",
              "      <th>Owned_Email</th>\n",
              "      <th>Job_Title</th>\n",
              "      <th>Total_Family_Members</th>\n",
              "      <th>Applicant_Age</th>\n",
              "      <th>Years_of_Working</th>\n",
              "      <th>Total_Bad_Debt</th>\n",
              "      <th>Total_Good_Debt</th>\n",
              "      <th>Status</th>\n",
              "    </tr>\n",
              "  </thead>\n",
              "  <tbody>\n",
              "    <tr>\n",
              "      <th>0</th>\n",
              "      <td>5008806</td>\n",
              "      <td>M</td>\n",
              "      <td>1</td>\n",
              "      <td>1</td>\n",
              "      <td>0</td>\n",
              "      <td>112500</td>\n",
              "      <td>Working                                       ...</td>\n",
              "      <td>Secondary / secondary special                 ...</td>\n",
              "      <td>Married                                       ...</td>\n",
              "      <td>House / apartment                             ...</td>\n",
              "      <td>...</td>\n",
              "      <td>0</td>\n",
              "      <td>0</td>\n",
              "      <td>0</td>\n",
              "      <td>Security staff                                ...</td>\n",
              "      <td>2</td>\n",
              "      <td>59</td>\n",
              "      <td>4</td>\n",
              "      <td>0</td>\n",
              "      <td>30</td>\n",
              "      <td>1</td>\n",
              "    </tr>\n",
              "    <tr>\n",
              "      <th>1</th>\n",
              "      <td>5008808</td>\n",
              "      <td>F</td>\n",
              "      <td>0</td>\n",
              "      <td>1</td>\n",
              "      <td>0</td>\n",
              "      <td>270000</td>\n",
              "      <td>Commercial associate                          ...</td>\n",
              "      <td>Secondary / secondary special                 ...</td>\n",
              "      <td>Single / not married                          ...</td>\n",
              "      <td>House / apartment                             ...</td>\n",
              "      <td>...</td>\n",
              "      <td>0</td>\n",
              "      <td>1</td>\n",
              "      <td>1</td>\n",
              "      <td>Sales staff                                   ...</td>\n",
              "      <td>1</td>\n",
              "      <td>53</td>\n",
              "      <td>9</td>\n",
              "      <td>0</td>\n",
              "      <td>5</td>\n",
              "      <td>1</td>\n",
              "    </tr>\n",
              "    <tr>\n",
              "      <th>2</th>\n",
              "      <td>5008809</td>\n",
              "      <td>F</td>\n",
              "      <td>0</td>\n",
              "      <td>1</td>\n",
              "      <td>0</td>\n",
              "      <td>270000</td>\n",
              "      <td>Commercial associate                          ...</td>\n",
              "      <td>Secondary / secondary special                 ...</td>\n",
              "      <td>Single / not married                          ...</td>\n",
              "      <td>House / apartment                             ...</td>\n",
              "      <td>...</td>\n",
              "      <td>0</td>\n",
              "      <td>1</td>\n",
              "      <td>1</td>\n",
              "      <td>Sales staff                                   ...</td>\n",
              "      <td>1</td>\n",
              "      <td>53</td>\n",
              "      <td>9</td>\n",
              "      <td>0</td>\n",
              "      <td>5</td>\n",
              "      <td>1</td>\n",
              "    </tr>\n",
              "    <tr>\n",
              "      <th>3</th>\n",
              "      <td>5008810</td>\n",
              "      <td>F</td>\n",
              "      <td>0</td>\n",
              "      <td>1</td>\n",
              "      <td>0</td>\n",
              "      <td>270000</td>\n",
              "      <td>Commercial associate                          ...</td>\n",
              "      <td>Secondary / secondary special                 ...</td>\n",
              "      <td>Single / not married                          ...</td>\n",
              "      <td>House / apartment                             ...</td>\n",
              "      <td>...</td>\n",
              "      <td>0</td>\n",
              "      <td>1</td>\n",
              "      <td>1</td>\n",
              "      <td>Sales staff                                   ...</td>\n",
              "      <td>1</td>\n",
              "      <td>53</td>\n",
              "      <td>9</td>\n",
              "      <td>0</td>\n",
              "      <td>27</td>\n",
              "      <td>1</td>\n",
              "    </tr>\n",
              "    <tr>\n",
              "      <th>4</th>\n",
              "      <td>5008811</td>\n",
              "      <td>F</td>\n",
              "      <td>0</td>\n",
              "      <td>1</td>\n",
              "      <td>0</td>\n",
              "      <td>270000</td>\n",
              "      <td>Commercial associate                          ...</td>\n",
              "      <td>Secondary / secondary special                 ...</td>\n",
              "      <td>Single / not married                          ...</td>\n",
              "      <td>House / apartment                             ...</td>\n",
              "      <td>...</td>\n",
              "      <td>0</td>\n",
              "      <td>1</td>\n",
              "      <td>1</td>\n",
              "      <td>Sales staff                                   ...</td>\n",
              "      <td>1</td>\n",
              "      <td>53</td>\n",
              "      <td>9</td>\n",
              "      <td>0</td>\n",
              "      <td>39</td>\n",
              "      <td>1</td>\n",
              "    </tr>\n",
              "  </tbody>\n",
              "</table>\n",
              "<p>5 rows × 21 columns</p>\n",
              "</div>\n",
              "    <div class=\"colab-df-buttons\">\n",
              "\n",
              "  <div class=\"colab-df-container\">\n",
              "    <button class=\"colab-df-convert\" onclick=\"convertToInteractive('df-60dcddf4-2533-4a8c-80a0-a84391bb2b4d')\"\n",
              "            title=\"Convert this dataframe to an interactive table.\"\n",
              "            style=\"display:none;\">\n",
              "\n",
              "  <svg xmlns=\"http://www.w3.org/2000/svg\" height=\"24px\" viewBox=\"0 -960 960 960\">\n",
              "    <path d=\"M120-120v-720h720v720H120Zm60-500h600v-160H180v160Zm220 220h160v-160H400v160Zm0 220h160v-160H400v160ZM180-400h160v-160H180v160Zm440 0h160v-160H620v160ZM180-180h160v-160H180v160Zm440 0h160v-160H620v160Z\"/>\n",
              "  </svg>\n",
              "    </button>\n",
              "\n",
              "  <style>\n",
              "    .colab-df-container {\n",
              "      display:flex;\n",
              "      gap: 12px;\n",
              "    }\n",
              "\n",
              "    .colab-df-convert {\n",
              "      background-color: #E8F0FE;\n",
              "      border: none;\n",
              "      border-radius: 50%;\n",
              "      cursor: pointer;\n",
              "      display: none;\n",
              "      fill: #1967D2;\n",
              "      height: 32px;\n",
              "      padding: 0 0 0 0;\n",
              "      width: 32px;\n",
              "    }\n",
              "\n",
              "    .colab-df-convert:hover {\n",
              "      background-color: #E2EBFA;\n",
              "      box-shadow: 0px 1px 2px rgba(60, 64, 67, 0.3), 0px 1px 3px 1px rgba(60, 64, 67, 0.15);\n",
              "      fill: #174EA6;\n",
              "    }\n",
              "\n",
              "    .colab-df-buttons div {\n",
              "      margin-bottom: 4px;\n",
              "    }\n",
              "\n",
              "    [theme=dark] .colab-df-convert {\n",
              "      background-color: #3B4455;\n",
              "      fill: #D2E3FC;\n",
              "    }\n",
              "\n",
              "    [theme=dark] .colab-df-convert:hover {\n",
              "      background-color: #434B5C;\n",
              "      box-shadow: 0px 1px 3px 1px rgba(0, 0, 0, 0.15);\n",
              "      filter: drop-shadow(0px 1px 2px rgba(0, 0, 0, 0.3));\n",
              "      fill: #FFFFFF;\n",
              "    }\n",
              "  </style>\n",
              "\n",
              "    <script>\n",
              "      const buttonEl =\n",
              "        document.querySelector('#df-60dcddf4-2533-4a8c-80a0-a84391bb2b4d button.colab-df-convert');\n",
              "      buttonEl.style.display =\n",
              "        google.colab.kernel.accessAllowed ? 'block' : 'none';\n",
              "\n",
              "      async function convertToInteractive(key) {\n",
              "        const element = document.querySelector('#df-60dcddf4-2533-4a8c-80a0-a84391bb2b4d');\n",
              "        const dataTable =\n",
              "          await google.colab.kernel.invokeFunction('convertToInteractive',\n",
              "                                                    [key], {});\n",
              "        if (!dataTable) return;\n",
              "\n",
              "        const docLinkHtml = 'Like what you see? Visit the ' +\n",
              "          '<a target=\"_blank\" href=https://colab.research.google.com/notebooks/data_table.ipynb>data table notebook</a>'\n",
              "          + ' to learn more about interactive tables.';\n",
              "        element.innerHTML = '';\n",
              "        dataTable['output_type'] = 'display_data';\n",
              "        await google.colab.output.renderOutput(dataTable, element);\n",
              "        const docLink = document.createElement('div');\n",
              "        docLink.innerHTML = docLinkHtml;\n",
              "        element.appendChild(docLink);\n",
              "      }\n",
              "    </script>\n",
              "  </div>\n",
              "\n",
              "\n",
              "<div id=\"df-6b51c8c4-1658-4139-aa70-66c0f161ecd7\">\n",
              "  <button class=\"colab-df-quickchart\" onclick=\"quickchart('df-6b51c8c4-1658-4139-aa70-66c0f161ecd7')\"\n",
              "            title=\"Suggest charts\"\n",
              "            style=\"display:none;\">\n",
              "\n",
              "<svg xmlns=\"http://www.w3.org/2000/svg\" height=\"24px\"viewBox=\"0 0 24 24\"\n",
              "     width=\"24px\">\n",
              "    <g>\n",
              "        <path d=\"M19 3H5c-1.1 0-2 .9-2 2v14c0 1.1.9 2 2 2h14c1.1 0 2-.9 2-2V5c0-1.1-.9-2-2-2zM9 17H7v-7h2v7zm4 0h-2V7h2v10zm4 0h-2v-4h2v4z\"/>\n",
              "    </g>\n",
              "</svg>\n",
              "  </button>\n",
              "\n",
              "<style>\n",
              "  .colab-df-quickchart {\n",
              "      --bg-color: #E8F0FE;\n",
              "      --fill-color: #1967D2;\n",
              "      --hover-bg-color: #E2EBFA;\n",
              "      --hover-fill-color: #174EA6;\n",
              "      --disabled-fill-color: #AAA;\n",
              "      --disabled-bg-color: #DDD;\n",
              "  }\n",
              "\n",
              "  [theme=dark] .colab-df-quickchart {\n",
              "      --bg-color: #3B4455;\n",
              "      --fill-color: #D2E3FC;\n",
              "      --hover-bg-color: #434B5C;\n",
              "      --hover-fill-color: #FFFFFF;\n",
              "      --disabled-bg-color: #3B4455;\n",
              "      --disabled-fill-color: #666;\n",
              "  }\n",
              "\n",
              "  .colab-df-quickchart {\n",
              "    background-color: var(--bg-color);\n",
              "    border: none;\n",
              "    border-radius: 50%;\n",
              "    cursor: pointer;\n",
              "    display: none;\n",
              "    fill: var(--fill-color);\n",
              "    height: 32px;\n",
              "    padding: 0;\n",
              "    width: 32px;\n",
              "  }\n",
              "\n",
              "  .colab-df-quickchart:hover {\n",
              "    background-color: var(--hover-bg-color);\n",
              "    box-shadow: 0 1px 2px rgba(60, 64, 67, 0.3), 0 1px 3px 1px rgba(60, 64, 67, 0.15);\n",
              "    fill: var(--button-hover-fill-color);\n",
              "  }\n",
              "\n",
              "  .colab-df-quickchart-complete:disabled,\n",
              "  .colab-df-quickchart-complete:disabled:hover {\n",
              "    background-color: var(--disabled-bg-color);\n",
              "    fill: var(--disabled-fill-color);\n",
              "    box-shadow: none;\n",
              "  }\n",
              "\n",
              "  .colab-df-spinner {\n",
              "    border: 2px solid var(--fill-color);\n",
              "    border-color: transparent;\n",
              "    border-bottom-color: var(--fill-color);\n",
              "    animation:\n",
              "      spin 1s steps(1) infinite;\n",
              "  }\n",
              "\n",
              "  @keyframes spin {\n",
              "    0% {\n",
              "      border-color: transparent;\n",
              "      border-bottom-color: var(--fill-color);\n",
              "      border-left-color: var(--fill-color);\n",
              "    }\n",
              "    20% {\n",
              "      border-color: transparent;\n",
              "      border-left-color: var(--fill-color);\n",
              "      border-top-color: var(--fill-color);\n",
              "    }\n",
              "    30% {\n",
              "      border-color: transparent;\n",
              "      border-left-color: var(--fill-color);\n",
              "      border-top-color: var(--fill-color);\n",
              "      border-right-color: var(--fill-color);\n",
              "    }\n",
              "    40% {\n",
              "      border-color: transparent;\n",
              "      border-right-color: var(--fill-color);\n",
              "      border-top-color: var(--fill-color);\n",
              "    }\n",
              "    60% {\n",
              "      border-color: transparent;\n",
              "      border-right-color: var(--fill-color);\n",
              "    }\n",
              "    80% {\n",
              "      border-color: transparent;\n",
              "      border-right-color: var(--fill-color);\n",
              "      border-bottom-color: var(--fill-color);\n",
              "    }\n",
              "    90% {\n",
              "      border-color: transparent;\n",
              "      border-bottom-color: var(--fill-color);\n",
              "    }\n",
              "  }\n",
              "</style>\n",
              "\n",
              "  <script>\n",
              "    async function quickchart(key) {\n",
              "      const quickchartButtonEl =\n",
              "        document.querySelector('#' + key + ' button');\n",
              "      quickchartButtonEl.disabled = true;  // To prevent multiple clicks.\n",
              "      quickchartButtonEl.classList.add('colab-df-spinner');\n",
              "      try {\n",
              "        const charts = await google.colab.kernel.invokeFunction(\n",
              "            'suggestCharts', [key], {});\n",
              "      } catch (error) {\n",
              "        console.error('Error during call to suggestCharts:', error);\n",
              "      }\n",
              "      quickchartButtonEl.classList.remove('colab-df-spinner');\n",
              "      quickchartButtonEl.classList.add('colab-df-quickchart-complete');\n",
              "    }\n",
              "    (() => {\n",
              "      let quickchartButtonEl =\n",
              "        document.querySelector('#df-6b51c8c4-1658-4139-aa70-66c0f161ecd7 button');\n",
              "      quickchartButtonEl.style.display =\n",
              "        google.colab.kernel.accessAllowed ? 'block' : 'none';\n",
              "    })();\n",
              "  </script>\n",
              "</div>\n",
              "    </div>\n",
              "  </div>\n"
            ],
            "application/vnd.google.colaboratory.intrinsic+json": {
              "type": "dataframe",
              "variable_name": "data"
            }
          },
          "metadata": {},
          "execution_count": 267
        }
      ]
    },
    {
      "cell_type": "markdown",
      "source": [
        "# Задача"
      ],
      "metadata": {
        "id": "w-ygaFYWb2Ce"
      }
    },
    {
      "cell_type": "markdown",
      "source": [
        "*2) Понять, у вас задача классификации (бинарной или многоклассовой) или регрессии (если у вас многоклассовая классификация, прочтите P.S.S. внизу).*"
      ],
      "metadata": {
        "id": "Krxibofvb6yh"
      }
    },
    {
      "cell_type": "markdown",
      "source": [
        "Целевая переменная - Status. Она может принимать только значения 0 или 1. Следовательно, это задача бинарной классификации."
      ],
      "metadata": {
        "id": "216OSSIgcDN0"
      }
    },
    {
      "cell_type": "markdown",
      "source": [
        "# Предобработка данных"
      ],
      "metadata": {
        "id": "iCfl25FBep4p"
      }
    },
    {
      "cell_type": "markdown",
      "source": [
        "*А. Разделить выборку на тренировочную (train) и тестовую (test). Обратите внимание, что обучать скейлеры и определять, какими значениями вы будете заполнять пропуски, вы будете на train выборке, а применять и на train, и на test.*"
      ],
      "metadata": {
        "id": "X4xEJ6dBevy6"
      }
    },
    {
      "cell_type": "code",
      "source": [
        "from sklearn.model_selection import train_test_split\n",
        "\n",
        "X = data.drop(columns=['Status', 'Applicant_ID'])  # признаки, за исключением Status и Applicant_ID\n",
        "y = data['Status'] # целевая переменная\n",
        "\n",
        "X_train, X_test, y_train, y_test = train_test_split(X, y, test_size=0.2, random_state=42, stratify=y) # само разделение\n",
        "\n",
        "print(f\"Размер train выборки: {X_train.shape}\") # строки столбцы\n",
        "print(f\"Размер test выборки: {X_test.shape}\")"
      ],
      "metadata": {
        "colab": {
          "base_uri": "https://localhost:8080/"
        },
        "id": "3ReRAbwkfdeI",
        "outputId": "b24b55fa-7020-422a-a3d1-2089f4054ef7"
      },
      "execution_count": 268,
      "outputs": [
        {
          "output_type": "stream",
          "name": "stdout",
          "text": [
            "Размер train выборки: (20102, 19)\n",
            "Размер test выборки: (5026, 19)\n"
          ]
        }
      ]
    },
    {
      "cell_type": "markdown",
      "source": [
        "Для разделения данных на тренировочные и тестовые используется метод train_test_split из sklearn. Обычно данные делятся пропорционально 80:20 или 70:30.\n",
        "\n",
        "---\n",
        "\n",
        "\n",
        "test_size=0.2 - 20% в тестовую выборку\n",
        "\n",
        "random_state=42 - случайное разбиение для воспроизводимости (свойство давать один и тот же результат при повторных данных)\n",
        "\n",
        "stratify=y - одинаковое соотношение классов 0 и 1 в train и test (стратифицированное разбиение)"
      ],
      "metadata": {
        "id": "sjp5WQpOhRF7"
      }
    },
    {
      "cell_type": "markdown",
      "source": [
        "*B. Проверить пропуски в данных. Если они есть, заполнить одной из стратегий, предложенных в ноутбуке для семинара №3. P.S. Для численных и категориальных переменных будут разные стратегии.*"
      ],
      "metadata": {
        "id": "jhVezfqqjWLC"
      }
    },
    {
      "cell_type": "code",
      "source": [
        "missing_values_train = X_train.isnull().sum()\n",
        "missing_values_test = X_test.isnull().sum()\n",
        "print(\"Пропуски в train:\\n\", missing_values_train)\n",
        "print()\n",
        "print(\"Пропуски в test:\\n\", missing_values_test)"
      ],
      "metadata": {
        "colab": {
          "base_uri": "https://localhost:8080/"
        },
        "id": "b5ObRbiejfMB",
        "outputId": "c3ac96f5-8d8d-46f1-b77c-9094daf8150c"
      },
      "execution_count": 269,
      "outputs": [
        {
          "output_type": "stream",
          "name": "stdout",
          "text": [
            "Пропуски в train:\n",
            " Applicant_Gender        0\n",
            "Owned_Car               0\n",
            "Owned_Realty            0\n",
            "Total_Children          0\n",
            "Total_Income            0\n",
            "Income_Type             0\n",
            "Education_Type          0\n",
            "Family_Status           0\n",
            "Housing_Type            0\n",
            "Owned_Mobile_Phone      0\n",
            "Owned_Work_Phone        0\n",
            "Owned_Phone             0\n",
            "Owned_Email             0\n",
            "Job_Title               0\n",
            "Total_Family_Members    0\n",
            "Applicant_Age           0\n",
            "Years_of_Working        0\n",
            "Total_Bad_Debt          0\n",
            "Total_Good_Debt         0\n",
            "dtype: int64\n",
            "\n",
            "Пропуски в test:\n",
            " Applicant_Gender        0\n",
            "Owned_Car               0\n",
            "Owned_Realty            0\n",
            "Total_Children          0\n",
            "Total_Income            0\n",
            "Income_Type             0\n",
            "Education_Type          0\n",
            "Family_Status           0\n",
            "Housing_Type            0\n",
            "Owned_Mobile_Phone      0\n",
            "Owned_Work_Phone        0\n",
            "Owned_Phone             0\n",
            "Owned_Email             0\n",
            "Job_Title               0\n",
            "Total_Family_Members    0\n",
            "Applicant_Age           0\n",
            "Years_of_Working        0\n",
            "Total_Bad_Debt          0\n",
            "Total_Good_Debt         0\n",
            "dtype: int64\n"
          ]
        }
      ]
    },
    {
      "cell_type": "markdown",
      "source": [
        "Пропусков нет, значит использование стратегий не требуется."
      ],
      "metadata": {
        "id": "n3_EeCD3klWV"
      }
    },
    {
      "cell_type": "markdown",
      "source": [
        "*C. Отнормировать численные переменные (StandardScaler, MinMaxScaler).*"
      ],
      "metadata": {
        "id": "gJNmysV2kskq"
      }
    },
    {
      "cell_type": "code",
      "source": [
        "from sklearn.preprocessing import StandardScaler\n",
        "\n",
        "num_columns = X_train.select_dtypes(include=['float64', 'int64']).columns # выбираем численные переменные\n",
        "scaler = StandardScaler() # нормализация\n",
        "X_train[num_columns] = scaler.fit_transform(X_train[num_columns])\n",
        "X_test[num_columns] = scaler.transform(X_test[num_columns])\n"
      ],
      "metadata": {
        "id": "jEGOuKcmkyb9"
      },
      "execution_count": 270,
      "outputs": []
    },
    {
      "cell_type": "markdown",
      "source": [
        "StandardScaler - масштабирует данные так, чтобы среднее значение было равно 0, а стандартное отклонение было равно 1.\n",
        "\n",
        "fit_transform - вычисляет параметры (среднее и стандратное отклонение) на тренировочных данных.\n",
        "\n",
        "transform - преобразует тестовые данные, используя параметры, вычисленные на тренировочной выборке.\n",
        "\n",
        "\n",
        "---\n",
        "\n",
        "StandardScaler - масштабирует данные, преобразуя их в стандартное нормальное распределение с средним значением 0 и стандартным отклонением 1 (предпочтителен - если признаки близки к нормальному распределению, модель чувствительна к распределению данных, необходимо сохранить данные в изначальном масштабе).\n",
        "MinMaxScaler - масштабирует данные в диапазон от 0 до 1 (или любой другой заданный диапазон) (предпочтителен - данные имеют четко определенный диапазон, все признаки нужно свести к одному масштабу, меньше выбросов или они не имеют влияния).\n",
        "\n",
        "\n",
        "\n",
        "---\n",
        "\n",
        "В датасете есть переменные с большим разбросом (например, Total_Income - диапазон от нескольких тысяч до миллионов), поэтому важно привести данные к стандартному нормальному распределению. MinMaxScaler был бы менее эффективен из-за экстремальных значений, так как он нормализует данные в диапазоне от 0 до 1, исходя из минимальных и максимальных значений."
      ],
      "metadata": {
        "id": "uoeW_RI7nJmb"
      }
    },
    {
      "cell_type": "markdown",
      "source": [
        "*D. Закодировать категориальные признаки по одной из стратегий.*"
      ],
      "metadata": {
        "id": "JPQt-xl2xYdV"
      }
    },
    {
      "cell_type": "code",
      "source": [
        "from sklearn.preprocessing import OneHotEncoder\n",
        "\n",
        "cat_columns = X_train.select_dtypes(include=['object', 'category']).columns # находим категориальные столбцы\n",
        "encoder = OneHotEncoder(sparse_output=False, handle_unknown='ignore')\n",
        "# sparse_output - результат в виде плотной матрицы (без разреженной), облегчает конкатенацию дальше\n",
        "# handle_unknown - игнорировать ошибку неизвестных категорий (не было в тренировочных данных)\n",
        "\n",
        "X_train_cat = pd.DataFrame(encoder.fit_transform(X_train[cat_columns]),\n",
        "                           columns=encoder.get_feature_names_out(cat_columns)) # преобразование признаков в train\n",
        "\n",
        "X_test_cat = pd.DataFrame(encoder.transform(X_test[cat_columns]),\n",
        "                          columns=encoder.get_feature_names_out(cat_columns)) # преобразование признаков в test\n",
        "\n",
        "# объединение закодированных данных с числовыми признаками\n",
        "X_train = pd.concat([X_train.drop(columns=cat_columns).reset_index(drop=True), X_train_cat.reset_index(drop=True)], axis=1)\n",
        "X_test = pd.concat([X_test.drop(columns=cat_columns).reset_index(drop=True), X_test_cat.reset_index(drop=True)], axis=1)\n"
      ],
      "metadata": {
        "id": "2nEloIJqxcnt"
      },
      "execution_count": 271,
      "outputs": []
    },
    {
      "cell_type": "markdown",
      "source": [
        "OneHotEncoder - преобразует категориальные признаки в числовой формат. Для каждого уникального значения категориальной переменной создается новый бинарный столбец. Например, признак color со значениями red, green превратится в два столбца color_red, color_green."
      ],
      "metadata": {
        "id": "5BN8rMgH0PLz"
      }
    },
    {
      "cell_type": "markdown",
      "source": [
        "# Обучение"
      ],
      "metadata": {
        "id": "TpOhLdmrkSov"
      }
    },
    {
      "cell_type": "markdown",
      "source": [
        "*4. Обучить на тренировочном множестве:*\n",
        "\n",
        "*Линейную модель (LogisticRegression, LinearRegression)*\n",
        "\n",
        "*Деревянную модель (DecisionTreeClassifier, DecisionTreeRegressor) (тут советую попробовать разные глубины деревьев)*\n",
        "\n",
        "*K-ближайших соседей (KNeighborsClassifier, KNeighborsRegressor) (тут тоже есть смысл попробовать разные k)*\n",
        "\n",
        "*Случайный лес (RandomForestClassifier, RandomForestRegressor)*"
      ],
      "metadata": {
        "id": "6hfXN8OnjxUH"
      }
    },
    {
      "cell_type": "markdown",
      "source": [
        "ЛИНЕЙНАЯ МОДЕЛЬ\n",
        "\n",
        "Логичестическая регрессия предсказывает вероятность принадлежности объекта к определенному классу, используя сигмоидальную функцию (мат. функция, которая имеет S-образную форму).\n",
        "\n",
        "P=1/(1+e^-z),\n",
        "z = w1x1 + w2x2 + ... + b - взвешенная сумма всех признаков + свободный коэффициент\n",
        "\n",
        "w1, w2... - веса признаков, x1, x2... - сами признаки\n",
        "\n",
        "Веса определяют влияние признака на итог:\n",
        "\n",
        "Если w_i > 0, то признак x_i увеличивает вероятность принадлежности объекта к классу 1. Если < 0, то уменьшает вероятность принадлежности объекта к классу 1.\n",
        "\n",
        "b - смещение для корректировки предсказания (чтобы модель не была привязана к началу координат).\n",
        "\n",
        "Для обучения модели используется логарифмическая функция потерь, которая измеряет, насколько хорошо модель предсказывает вероятности. Задача обучения - минимизировать функции потерь. На каждом шаге параметры w_i корректируются на небольшую величину, так чтобы функция потерь уменьшалась. Шаги продолжаются либо пока потери заметно не уменьшатся, либо пока не завершено максимальное ко-во итераций (эпох).\n",
        "\n",
        "Для каждого объекта в обучающей выборке модель предсказывает вероятность принадлежности к классу, сравнивает предсказание с истинным значением, корректирует параметры модели."
      ],
      "metadata": {
        "id": "Md6u5IxTkXO5"
      }
    },
    {
      "cell_type": "code",
      "source": [
        "from sklearn.linear_model import LogisticRegression\n",
        "from sklearn.metrics import accuracy_score\n",
        "\n",
        "log_model = LogisticRegression(max_iter=500, random_state=42) # создание модели (max_iter - кол-во итераций, random_state - случайность для воспроизводимости)\n",
        "log_model.fit(X_train, y_train) # обучение модели\n",
        "y_pred_log = log_model.predict(X_test) # предсказания\n",
        "log_accuracy = accuracy_score(y_test, y_pred_log) # оценка модели (точность показывает долю верных предсказаний)\n",
        "\n",
        "print(f\"Логистическая регрессия - точность: {log_accuracy:.4f}\")\n"
      ],
      "metadata": {
        "colab": {
          "base_uri": "https://localhost:8080/"
        },
        "id": "gUUzyTxZhdW3",
        "outputId": "ce8e3186-4b20-4b44-96e5-fb3cdfbbf5f0"
      },
      "execution_count": 272,
      "outputs": [
        {
          "output_type": "stream",
          "name": "stdout",
          "text": [
            "Логистическая регрессия - точность: 0.9972\n"
          ]
        }
      ]
    },
    {
      "cell_type": "markdown",
      "source": [
        "ДЕРЕВО РЕШЕНИЙ\n",
        "\n",
        "Дерево начинается с корневого узла, в котором находятся все данные. Затем алгоритм анализирует, как лучше разделить данные, чтобы данные были максимально принадлежащими к одному классу. Чистота оценивается с помощью метрик: для классификации - критерий Джини, энтропия, для регрессии - среднеквадратичная ошибка. Выбирает разбиение, которое минимизирует ошибку. Разбиение заканчивается, когда глубина дерева достигает макс значения, узел содержит данные только одного класса.\n",
        "\n",
        "Глубина дерева определяет его сложность."
      ],
      "metadata": {
        "id": "R6QPFRu7lTa2"
      }
    },
    {
      "cell_type": "code",
      "source": [
        "# подбор глубины дерева\n",
        "from sklearn.tree import DecisionTreeClassifier\n",
        "from sklearn.model_selection import cross_val_score\n",
        "import numpy as np\n",
        "\n",
        "max_depths = range(1, 20)\n",
        "mean_scores = [] # средние значения точности модели на каждом уровне глубины\n",
        "\n",
        "for depth in max_depths:\n",
        "    tree = DecisionTreeClassifier(max_depth=depth, random_state=42)\n",
        "    scores = cross_val_score(tree, X_train, y_train, cv=5, scoring='accuracy') # перекрестная проверка на 5 фолдах\n",
        "    # исходные делятся на равные фолды, затем модель обучается на 4 из 5 и тестируется на 1, так для каждого из фолдов\n",
        "    # результаты усредняются и оценка модели проводится по точности\n",
        "    mean_scores.append(np.mean(scores))\n",
        "\n",
        "best_depth = max_depths[np.argmax(mean_scores)]\n",
        "print(f\"Глубина дерева: {best_depth}\")"
      ],
      "metadata": {
        "colab": {
          "base_uri": "https://localhost:8080/"
        },
        "id": "TbYS0K3zwwol",
        "outputId": "fa979d84-70eb-4bd4-f881-2798b8276ecd"
      },
      "execution_count": 273,
      "outputs": [
        {
          "output_type": "stream",
          "name": "stdout",
          "text": [
            "Глубина дерева: 7\n"
          ]
        }
      ]
    },
    {
      "cell_type": "code",
      "source": [
        "from sklearn.tree import DecisionTreeClassifier\n",
        "\n",
        "tree_model = DecisionTreeClassifier(max_depth=8, random_state=42)\n",
        "tree_model.fit(X_train, y_train)\n",
        "\n",
        "y_pred_tree = tree_model.predict(X_test)\n",
        "tree_accuracy = accuracy_score(y_test, y_pred_tree)\n",
        "\n",
        "print(f\"Дерево решений - точность: {tree_accuracy:.4f}\")\n"
      ],
      "metadata": {
        "colab": {
          "base_uri": "https://localhost:8080/"
        },
        "id": "mrhYA69KhfSQ",
        "outputId": "5b1257ba-044b-4111-88be-42853f7d6fd3"
      },
      "execution_count": 274,
      "outputs": [
        {
          "output_type": "stream",
          "name": "stdout",
          "text": [
            "Дерево решений - точность: 0.9992\n"
          ]
        }
      ]
    },
    {
      "cell_type": "markdown",
      "source": [
        "К-БЛИЖАЙШИХ СОСЕДЕЙ\n",
        "\n",
        "Параметр k задает число соседей.\n",
        "\n",
        "Алгоритм: Рассчитываются расстояния от нового объекта до всех точек обучающей выборки. Далее они сортируются по расстояния и выбираются k ближайших соседей. Для классификации - новому объекту присваивается часто встречающийся класс. Для регрессии - среднее значение целевой переменной."
      ],
      "metadata": {
        "id": "2kJDIfcplkII"
      }
    },
    {
      "cell_type": "code",
      "source": [
        "# подбор кол-ва соседей\n",
        "from sklearn.model_selection import cross_val_score\n",
        "from sklearn.neighbors import KNeighborsClassifier\n",
        "import numpy as np\n",
        "\n",
        "scaler = StandardScaler()\n",
        "X_train_scaled = scaler.fit_transform(X_train)\n",
        "\n",
        "k_values = range(1, 21)\n",
        "mean_scores = []\n",
        "\n",
        "for k in k_values:\n",
        "    model = KNeighborsClassifier(n_neighbors=k)\n",
        "    scores = cross_val_score(model, X_train_scaled, y_train, cv=5, scoring='accuracy')\n",
        "    mean_scores.append(np.mean(scores))\n",
        "\n",
        "best_k = k_values[np.argmax(mean_scores)]\n",
        "print(f\"Количество соседей (k): {best_k}\")\n"
      ],
      "metadata": {
        "colab": {
          "base_uri": "https://localhost:8080/"
        },
        "id": "gBbvoSGI1775",
        "outputId": "a4435a0c-2654-4073-d53c-88b0cd28535a"
      },
      "execution_count": 275,
      "outputs": [
        {
          "output_type": "stream",
          "name": "stdout",
          "text": [
            "Количество соседей (k): 16\n"
          ]
        }
      ]
    },
    {
      "cell_type": "code",
      "source": [
        "from sklearn.neighbors import KNeighborsClassifier\n",
        "\n",
        "knn_model = KNeighborsClassifier(n_neighbors=6)\n",
        "knn_model.fit(X_train, y_train)\n",
        "\n",
        "y_pred_knn = knn_model.predict(X_test)\n",
        "knn_accuracy = accuracy_score(y_test, y_pred_knn)\n",
        "\n",
        "print(f\"K-ближайших соседей - точность: {knn_accuracy:.4f}\")\n"
      ],
      "metadata": {
        "colab": {
          "base_uri": "https://localhost:8080/"
        },
        "id": "1TS20cvvhkHg",
        "outputId": "2b5563a0-b0db-4ba2-f421-ee80c7092585"
      },
      "execution_count": 276,
      "outputs": [
        {
          "output_type": "stream",
          "name": "stdout",
          "text": [
            "K-ближайших соседей - точность: 0.9960\n"
          ]
        }
      ]
    },
    {
      "cell_type": "markdown",
      "source": [
        "СЛУЧАЙНЫЙ ЛЕС\n",
        "\n",
        "Случаный лес использует множество деревьев решений. Каждое дерево принимает решение, а итоговое решение принимается большинством голосов.\n",
        "\n",
        "Случайный лес создает одно дерево для каждого поднабора данных. Когда строится дерево, случайным образом выбирается часть признаков, чтобы избежать излишней зависимости от одного признака. Для прогноза каждое дерево дает свой ответ и выбирается самый популярный ответ (для классификации) или среднее значение (для регрессии)."
      ],
      "metadata": {
        "id": "6xDwGR53l4lM"
      }
    },
    {
      "cell_type": "code",
      "source": [
        "# подбор кол-ва деревьев\n",
        "from sklearn.ensemble import RandomForestClassifier\n",
        "from sklearn.model_selection import cross_val_score\n",
        "import numpy as np\n",
        "\n",
        "n_values = [50, 100, 200, 300]\n",
        "mean_scores = []\n",
        "\n",
        "for n in n_values:\n",
        "    rf = RandomForestClassifier(n_estimators=n, random_state=42)\n",
        "    scores = cross_val_score(rf, X_train, y_train, cv=5, scoring='accuracy')\n",
        "    mean_scores.append(np.mean(scores))\n",
        "\n",
        "best_n = n_values[np.argmax(mean_scores)]\n",
        "print(f\"Количество деревьев: {best_n}\")\n"
      ],
      "metadata": {
        "colab": {
          "base_uri": "https://localhost:8080/"
        },
        "id": "-pEPJENP_oKx",
        "outputId": "13415bd8-d91c-404e-e2ec-dae4a4386370"
      },
      "execution_count": 277,
      "outputs": [
        {
          "output_type": "stream",
          "name": "stdout",
          "text": [
            "Количество деревьев: 50\n"
          ]
        }
      ]
    },
    {
      "cell_type": "code",
      "source": [
        "from sklearn.ensemble import RandomForestClassifier\n",
        "\n",
        "forest_model = RandomForestClassifier(n_estimators=50, max_depth=10, random_state=42)\n",
        "forest_model.fit(X_train, y_train)\n",
        "\n",
        "y_pred_forest = forest_model.predict(X_test)\n",
        "forest_accuracy = accuracy_score(y_test, y_pred_forest)\n",
        "\n",
        "print(f\"Случайный лес - точность: {forest_accuracy:.4f}\")\n"
      ],
      "metadata": {
        "colab": {
          "base_uri": "https://localhost:8080/"
        },
        "id": "QJ0uNUMKhuUF",
        "outputId": "eee64970-f72d-4c0c-8d20-4f77a291baff"
      },
      "execution_count": 278,
      "outputs": [
        {
          "output_type": "stream",
          "name": "stdout",
          "text": [
            "Случайный лес - точность: 0.9962\n"
          ]
        }
      ]
    },
    {
      "cell_type": "markdown",
      "source": [
        "# Метрики"
      ],
      "metadata": {
        "id": "gX7vEPIgBnJn"
      }
    },
    {
      "cell_type": "markdown",
      "source": [
        "*5. Посчитайте метрики на train и test множествах:*\n",
        "\n",
        "*А. Для задачи классификации -- Accuracy, ROC-AUC (график + значение), PR-кривую (график), F1-score*\n",
        "\n",
        "*Б. Для задачи регрессии -- MAE, RMSE, MAPE*"
      ],
      "metadata": {
        "id": "VaKJ5SZuBqBp"
      }
    },
    {
      "cell_type": "markdown",
      "source": [
        "Accuracy (точность) - метрика, которая измеряет долю правильных предсказаний\n",
        "\n",
        "Кол-во правильных предсказаний / Общее кол-во предсказаний"
      ],
      "metadata": {
        "id": "WxnWXqHoOZ5d"
      }
    },
    {
      "cell_type": "markdown",
      "source": [
        "ROC-AUC - метрика, измеряющая качество модели в задачах классификации\n",
        "\n",
        "Кривая ROC отображает отношение между False Positive Rate (FPR) и True Positive Rate (TRP)\n",
        "\n",
        "TPR - доля положительных экземпляров, правильно классифицированных как положительные\n",
        "\n",
        "True Positive / (True Positive + False Negative)\n",
        "\n",
        "FPR - доля отрицательных экземпляров, ошибочно классифицированных как положительные\n",
        "\n",
        "False Positive / (False Positive + True Negative)\n",
        "\n",
        "AUC - площадь под ROC-кривой. Идеальный AUC = 1."
      ],
      "metadata": {
        "id": "QHvJpjeSOqcZ"
      }
    },
    {
      "cell_type": "markdown",
      "source": [
        "PR-кривая - метрика, которая используется для оценки классификаторов, особенно когда классы несбалансированы. Отображает отношения между точностью и полнотой.\n",
        "\n",
        "Precision (точность) - доля правильных положительных предсказаний среди всех предсказанных положительных - ось У\n",
        "\n",
        "True Positive / True Positive + False Positive\n",
        "\n",
        "Recall (полнота) - доля правильно классифицированных положительных экземпляров среди всех реальных положительных - ось Х\n",
        "\n",
        "True Positive / True Positive + False Negative"
      ],
      "metadata": {
        "id": "YdtlJ0sHPtjY"
      }
    },
    {
      "cell_type": "markdown",
      "source": [
        "F1-score - гармоническое отношение между точностью и полнотой\n",
        "\n",
        "2 * (Precision * Recall) / (Precision + Recall)"
      ],
      "metadata": {
        "id": "_9aHLsGsQeGm"
      }
    },
    {
      "cell_type": "code",
      "source": [
        "models = {} # словарь c моделями\n",
        "models['LogisticRegression'] = log_model\n",
        "models['DecisionTreeClassifier'] = tree_model\n",
        "models['KNeighborsClassifier'] = knn_model\n",
        "models['RandomForestClassifier'] = forest_model"
      ],
      "metadata": {
        "id": "_aTIJwnCIoyq"
      },
      "execution_count": 279,
      "outputs": []
    },
    {
      "cell_type": "code",
      "source": [
        "import matplotlib.pyplot as plt\n",
        "from sklearn.metrics import accuracy_score, roc_auc_score, f1_score, roc_curve, auc, precision_recall_curve, average_precision_score\n",
        "\n",
        "results = {}\n",
        "\n",
        "for model_name, model in models.items():\n",
        "    y_pred_train = model.predict(X_train) # предсказания\n",
        "    y_pred_test = model.predict(X_test)\n",
        "\n",
        "    y_pred_train_prob = model.predict_proba(X_train)[:, 1] # вероятности для ROC, PR кривых (вероятности для класса 1 - положительный класс)\n",
        "    y_pred_test_prob = model.predict_proba(X_test)[:, 1]\n",
        "\n",
        "    train_accuracy = accuracy_score(y_train, y_pred_train) # точность\n",
        "    test_accuracy = accuracy_score(y_test, y_pred_test)\n",
        "\n",
        "    train_roc_auc = roc_auc_score(y_train, y_pred_train_prob) # площадь под ROC-кривой, измеряет качество классификации\n",
        "    test_roc_auc = roc_auc_score(y_test, y_pred_test_prob)\n",
        "\n",
        "    train_f1 = f1_score(y_train, y_pred_train) # гармоническое среднее точности и полноты\n",
        "    test_f1 = f1_score(y_test, y_pred_test)\n",
        "\n",
        "    train_precision, train_recall, _ = precision_recall_curve(y_train, y_pred_train_prob)\n",
        "    test_precision, test_recall, _ = precision_recall_curve(y_test, y_pred_test_prob)\n",
        "    # третье значение - пороги, на которых вычисляются значения точности и полноты\n",
        "\n",
        "    results[model_name] = {\n",
        "        \"train accuracy\": train_accuracy,\n",
        "        \"test accuracy\": test_accuracy,\n",
        "        \"train ROC-AUC\": train_roc_auc,\n",
        "        \"test ROC-AUC\": test_roc_auc,\n",
        "        \"train F1-score\": train_f1,\n",
        "        \"test F1-score\": test_f1,\n",
        "        \"train precision-recall\": (train_precision, train_recall),\n",
        "        \"test precision-recall\": (test_precision, test_recall),\n",
        "        \"train ROC probabilities\": y_pred_train_prob,\n",
        "        \"test ROC probabilities\": y_pred_test_prob\n",
        "    }\n",
        "\n",
        "    print(f\"\\n{model_name}\\ntrain accuracy: {train_accuracy:.4f}, test accuracy: {test_accuracy:.4f}\")\n",
        "    print(f\"train ROC-AUC: {train_roc_auc:.4f}, test ROC-AUC: {test_roc_auc:.4f}\")\n",
        "    print(f\"train F1-score: {train_f1:.4f}, test F1-score: {test_f1:.4f}\")\n",
        "\n",
        "plt.figure(figsize=(12, 6))\n",
        "\n",
        "# ROC-кривая\n",
        "plt.subplot(1, 2, 1)\n",
        "for model_name in models.keys():\n",
        "    fpr_train, tpr_train, _ = roc_curve(y_train, results[model_name][\"train ROC probabilities\"])\n",
        "    fpr_test, tpr_test, _ = roc_curve(y_test, results[model_name][\"test ROC probabilities\"])\n",
        "    plt.plot(fpr_test, tpr_test, label=f'{model_name} (test ROC-AUC = {results[model_name][\"test ROC-AUC\"]:.2f})')\n",
        "plt.xlabel('False Positive Rate')\n",
        "plt.ylabel('True Positive Rate')\n",
        "plt.title('ROC-кривая')\n",
        "plt.legend(loc='lower right')\n",
        "\n",
        "# PR-кривая\n",
        "plt.subplot(1, 2, 2)\n",
        "for model_name in models.keys():\n",
        "    test_precision, test_recall = results[model_name][\"test precision-recall\"]\n",
        "    plt.plot(test_recall, test_precision, label=f'{model_name} (AP = {average_precision_score(y_test, results[model_name][\"test ROC probabilities\"]):.2f})')\n",
        "plt.xlabel('Recall')\n",
        "plt.ylabel('Precision')\n",
        "plt.title('PR-кривая')\n",
        "plt.legend(loc='lower left')\n",
        "\n",
        "plt.tight_layout()\n",
        "plt.show()\n"
      ],
      "metadata": {
        "colab": {
          "base_uri": "https://localhost:8080/",
          "height": 954
        },
        "id": "OdqoNkbbB3uN",
        "outputId": "65139e30-13cd-4b5f-82f5-edc1e7a4fad8"
      },
      "execution_count": 280,
      "outputs": [
        {
          "output_type": "stream",
          "name": "stdout",
          "text": [
            "\n",
            "LogisticRegression\n",
            "train accuracy: 0.9978, test accuracy: 0.9972\n",
            "train ROC-AUC: 0.9993, test ROC-AUC: 0.9988\n",
            "train F1-score: 0.9989, test F1-score: 0.9986\n",
            "\n",
            "DecisionTreeClassifier\n",
            "train accuracy: 1.0000, test accuracy: 0.9992\n",
            "train ROC-AUC: 1.0000, test ROC-AUC: 0.9581\n",
            "train F1-score: 1.0000, test F1-score: 0.9996\n",
            "\n",
            "KNeighborsClassifier\n",
            "train accuracy: 0.9968, test accuracy: 0.9960\n",
            "train ROC-AUC: 0.9980, test ROC-AUC: 0.9137\n",
            "train F1-score: 0.9984, test F1-score: 0.9980\n",
            "\n",
            "RandomForestClassifier\n",
            "train accuracy: 0.9981, test accuracy: 0.9962\n",
            "train ROC-AUC: 1.0000, test ROC-AUC: 0.9993\n",
            "train F1-score: 0.9991, test F1-score: 0.9981\n"
          ]
        },
        {
          "output_type": "display_data",
          "data": {
            "text/plain": [
              "<Figure size 1200x600 with 2 Axes>"
            ],
            "image/png": "[encoded data removed]"
          },
          "metadata": {}
        }
      ]
    },
    {
      "cell_type": "markdown",
      "source": [
        "# Вопросы"
      ],
      "metadata": {
        "id": "Wv6gpAOjZXmh"
      }
    },
    {
      "cell_type": "markdown",
      "source": [
        "*6. Сравните метрики относительно train/test, так и* *относительно разных моделей. Ответьте на следующие вопросы:*\n",
        "\n",
        "*A. Какая модель справилась лучше с поставленной задачей?*\n",
        "\n",
        "*B. Имеет ли место переобучение?*\n",
        "\n",
        "*C. Имеет ли место недообучение?*\n",
        "\n",
        "*D. Как можно улучшить метрики моделей?*"
      ],
      "metadata": {
        "id": "iHhTsxShZhDB"
      }
    },
    {
      "cell_type": "markdown",
      "source": [
        "A. Лучше всего справляется логистическая регрессия. У нее высокие метрики на обучающем, так и на тестовом наборе.\n",
        "\n",
        "Случайный лес и дерево решений показывают отличные результаты на обучающем наборе, но на тесте наблюдается небольшое снижение метрик.\n",
        "\n",
        "B. Переобучение имеет место в случае дерева решений и случайного леса.\n",
        "\n",
        "C. Недообучение не наблюдается. Все модели показывают хорошие результаты на тестовых данных.\n",
        "\n",
        "D. Для случайного леса и дерева решений можно оптимизировать гиперпараметры (уменьшение глубины или увеличение количества деревьев)."
      ],
      "metadata": {
        "id": "TnS5XHrdZ32a"
      }
    },
    {
      "cell_type": "code",
      "source": [
        "# import pandas as pd\n",
        "# from imblearn.over_sampling import RandomOverSampler\n",
        "# from sklearn.compose import ColumnTransformer\n",
        "\n",
        "# df = pd.read_csv('Application_Data.csv', sep=',')\n",
        "\n",
        "# X = df.drop(columns=['Status', 'Applicant_ID'])\n",
        "# y = df['Status']  # целевая переменная\n",
        "\n",
        "# ros = RandomOverSampler(sampling_strategy='auto', random_state=42)\n",
        "\n",
        "# X_res, y_res = ros.fit_resample(X, y) # oversampling (добавляем экземпляров редкого класса)\n",
        "\n",
        "# df_resampled = pd.DataFrame(X_res, columns=X.columns) # датафрейм с пересемплированными данными\n",
        "# df_resampled['Status'] = y_res\n",
        "\n",
        "# X = df_resampled.drop('Status', axis=1)  # признаки\n",
        "# y = df_resampled['Status']  # целевая переменная\n",
        "\n",
        "# X_train, X_test, y_train, y_test = train_test_split(X, y, test_size=0.2, random_state=42, stratify=y)\n",
        "\n",
        "# numerical_features = X.select_dtypes(include=['int64', 'float64']).columns # числовые признаки\n",
        "# categorical_features = X.select_dtypes(include=['object']).columns # категориальные признаки\n",
        "\n",
        "# numerical_transformer = StandardScaler()\n",
        "\n",
        "# categorical_transformer = OneHotEncoder(drop='first', sparse_output=False)\n",
        "\n",
        "# preprocessor = ColumnTransformer(\n",
        "#     transformers=[\n",
        "#         ('num', numerical_transformer, numerical_features),\n",
        "#         ('cat', categorical_transformer, categorical_features)\n",
        "#     ])\n",
        "\n",
        "# X_train_transformed = preprocessor.fit_transform(X_train)\n",
        "# X_test_transformed = preprocessor.transform(X_test)\n",
        "\n",
        "# # модель логистической регрессии\n",
        "# model = LogisticRegression(max_iter=1000, penalty='l2', C=0.0000001) # l2 регуляризация\n",
        "# model.fit(X_train_transformed, y_train)\n",
        "\n",
        "# y_pred_prob = model.predict_proba(X_test_transformed)[:, 1]\n",
        "\n",
        "# fpr, tpr, thresholds = roc_curve(y_test, y_pred_prob)\n",
        "\n",
        "# roc_auc = auc(fpr, tpr)\n",
        "\n",
        "# plt.figure(figsize=(8, 6))\n",
        "# plt.plot(fpr, tpr, color='blue', lw=2, label=f'ROC-кривая (AUC = {roc_auc:.2f})')\n",
        "# plt.xlabel('False Positive Rate')\n",
        "# plt.ylabel('True Positive Rate')\n",
        "# plt.title('ROC-кривая')\n",
        "# plt.legend(loc='lower right')\n",
        "# plt.show()\n",
        "\n",
        "# print(f'AUC: {roc_auc:.2f}')"
      ],
      "metadata": {
        "id": "ZNMT8yuLfLd1"
      },
      "execution_count": 281,
      "outputs": []
    }
  ]
}