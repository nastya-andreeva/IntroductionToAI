{
  "nbformat": 4,
  "nbformat_minor": 0,
  "metadata": {
    "colab": {
      "provenance": []
    },
    "kernelspec": {
      "name": "python3",
      "display_name": "Python 3"
    },
    "language_info": {
      "name": "python"
    }
  },
  "cells": [
    {
      "cell_type": "markdown",
      "source": [
        "**ЛАБОРАТОРНАЯ РАБОТА 1**\n",
        "\n",
        "Андреева Анастасия\n",
        "\n",
        "Группа: БИВТ-22-СП-3"
      ],
      "metadata": {
        "id": "ypYqmUSPS40K"
      }
    },
    {
      "cell_type": "markdown",
      "source": [
        "*1. Базовые типы переменных*"
      ],
      "metadata": {
        "id": "gH6BDb39TPNy"
      }
    },
    {
      "cell_type": "code",
      "execution_count": 4,
      "metadata": {
        "id": "OIVuV1FhPIp_"
      },
      "outputs": [],
      "source": [
        "int_variable = 20  # int\n",
        "assert isinstance(int_variable, int)\n",
        "\n",
        "float_variable = 1.78  # float\n",
        "assert isinstance(float_variable, float)\n",
        "\n",
        "string_variable = \"Hi!\"  # string\n",
        "assert isinstance(string_variable, str)\n",
        "\n",
        "bool_variable = False  # bool\n",
        "assert isinstance(bool_variable, bool)\n"
      ]
    },
    {
      "cell_type": "code",
      "source": [
        "list_variable = [1, 2, 3]  # list\n",
        "assert isinstance(list_variable, list)\n",
        "\n",
        "tuple_variable = (1, 2, 3)  # tuple\n",
        "assert isinstance(tuple_variable, tuple)\n",
        "\n",
        "set_variable = {1, 2, 3}  # set\n",
        "assert isinstance(set_variable, set)\n",
        "\n",
        "dict_variable = {\"a\": 1, \"b\": 2}  # dict\n",
        "assert isinstance(dict_variable, dict)"
      ],
      "metadata": {
        "id": "s8KqYFINSLAV"
      },
      "execution_count": 5,
      "outputs": []
    },
    {
      "cell_type": "markdown",
      "source": [
        "*2.1 Различные функции*"
      ],
      "metadata": {
        "id": "yHrOarNgTXbB"
      }
    },
    {
      "cell_type": "code",
      "source": [
        "def difference_of_two_numbers(first, second):\n",
        "    return first - second\n",
        "\n",
        "\n",
        "assert difference_of_two_numbers(2, 1) == 1\n",
        "assert difference_of_two_numbers(4, 1) == 3\n",
        "assert difference_of_two_numbers(10, 0) == 10\n",
        "assert difference_of_two_numbers(-5, -6) == 1"
      ],
      "metadata": {
        "id": "E7RhFlHjTa3g"
      },
      "execution_count": 6,
      "outputs": []
    },
    {
      "cell_type": "code",
      "source": [
        "def condition_function(input_number):\n",
        "    if input_number < 0:\n",
        "      return input_number * 2\n",
        "    if 0 < input_number <= 10:\n",
        "      return input_number * 3\n",
        "    return input_number / 10\n",
        "\n",
        "\n",
        "assert condition_function(0) == 0\n",
        "assert condition_function(-1) == -2\n",
        "assert condition_function(1) == 3\n",
        "assert condition_function(10) == 30\n",
        "assert condition_function(11) == 1.1\n",
        "assert condition_function(20) == 2"
      ],
      "metadata": {
        "id": "6_RfjThDTybM"
      },
      "execution_count": 7,
      "outputs": []
    },
    {
      "cell_type": "code",
      "source": [
        "def calculator(number_1, operation, number_2):\n",
        "    if operation == \"+\":\n",
        "      return number_1 + number_2\n",
        "    if operation == \"-\":\n",
        "      return number_1 - number_2\n",
        "    if operation == \"*\":\n",
        "      return number_1 * number_2\n",
        "    if operation == \"/\":\n",
        "      return number_1 / number_2\n",
        "\n",
        "\n",
        "assert calculator(1, \"+\", 2) == 3\n",
        "assert calculator(3, \"-\", 1) == 2\n",
        "assert calculator(4, \"*\", 3) == 12\n",
        "assert calculator(2, \"/\", 2) == 1"
      ],
      "metadata": {
        "id": "-dkElQrNUOGw"
      },
      "execution_count": 8,
      "outputs": []
    },
    {
      "cell_type": "code",
      "source": [
        "def number_of_unique_elements(input_list):\n",
        "    return len(set(input_list))\n",
        "\n",
        "\n",
        "assert number_of_unique_elements([1, 2, 3]) == 3\n",
        "assert number_of_unique_elements([1] * 93) == 1\n",
        "assert number_of_unique_elements(list(range(1000))) == 1000"
      ],
      "metadata": {
        "id": "8wMG3wU8Uvts"
      },
      "execution_count": 9,
      "outputs": []
    },
    {
      "cell_type": "code",
      "source": [
        "def counter(input_list):\n",
        "    dct = {}\n",
        "    for value in input_list:\n",
        "      if value in dct:\n",
        "        dct[value] += 1\n",
        "      else:\n",
        "        dct[value] = 1\n",
        "    return dct\n",
        "\n",
        "\n",
        "assert counter([1, 1, 1, 2, 3]) == {1: 3, 2: 1, 3: 1}\n",
        "assert counter([1] * 1000) == {1: 1000}\n",
        "assert counter([1, 3, 5] * 100) == {1: 100, 3: 100, 5: 100}"
      ],
      "metadata": {
        "id": "ALl8eG0oU7nc"
      },
      "execution_count": 11,
      "outputs": []
    },
    {
      "cell_type": "code",
      "source": [
        "def multiply_nums(input_string):\n",
        "    lst = list(map(int, input_string.split(',')))\n",
        "    p = 1\n",
        "    for i in lst:\n",
        "      p *= i\n",
        "    return p\n",
        "\n",
        "\n",
        "assert multiply_nums(\"2, 3\") == 6\n",
        "assert multiply_nums(\"1, 1, 1, 1, 1, 1, 1\") == 1\n",
        "assert multiply_nums(\"345, 4576, 794, 325, 0\") == 0"
      ],
      "metadata": {
        "id": "-TN7BBekWBU9"
      },
      "execution_count": 13,
      "outputs": []
    },
    {
      "cell_type": "code",
      "source": [
        "import math\n",
        "\n",
        "def custom_function(x):\n",
        "    return math.sin(x) * math.cos(x)\n",
        "\n",
        "assert round(custom_function(1), 3) == 0.455\n",
        "assert round(custom_function(1.5), 3) == 0.071\n",
        "assert round(custom_function(2), 3) == -0.378\n",
        "assert custom_function(0) == 0"
      ],
      "metadata": {
        "id": "FS2DDjgpWigz"
      },
      "execution_count": 14,
      "outputs": []
    },
    {
      "cell_type": "code",
      "source": [
        "import math\n",
        "\n",
        "def custom_function_1(x, n):\n",
        "    p = 1\n",
        "    for i in range(1, n + 1):\n",
        "      numer = (i + 2) ** x + math.log(x)\n",
        "      denom = x ** 2 + 4 * i\n",
        "      p *= numer / denom\n",
        "    return p\n",
        "\n",
        "\n",
        "assert round(custom_function_1(2, 3), 3) == 2.707\n",
        "assert round(custom_function_1(3, 2), 3) == 8.277\n",
        "assert round(custom_function_1(3, 3), 3) == 49.7"
      ],
      "metadata": {
        "id": "g7PNm-BXW2Kk"
      },
      "execution_count": 17,
      "outputs": []
    },
    {
      "cell_type": "markdown",
      "source": [
        "*2.2 Задачки на написание функций*"
      ],
      "metadata": {
        "id": "aNh3UF1vYOxu"
      }
    },
    {
      "cell_type": "markdown",
      "source": [
        "1) Дано число n. С начала суток прошло n минут. Определите, сколько часов и минут будут показывать электронные часы в этот момент. Программа должна вывести два числа: количество часов (от 0 до 23) и количество минут (от 0 до 59). Учтите, что число n может быть больше, чем количество минут в сутках."
      ],
      "metadata": {
        "id": "1mGrYvccYRF4"
      }
    },
    {
      "cell_type": "code",
      "source": [
        "# Ваша задача здесь написать функцию time_converter (именно такое название)\n",
        "# она должна возвращать значения в виде строки 'hours minutes'\n",
        "def time_converter(n):\n",
        "    n = n % (24 * 60)\n",
        "    h = n // 60\n",
        "    m = n % 60\n",
        "    return f'{h} {m}'\n",
        "\n",
        "\n",
        "assert time_converter(2782) == '22 22'\n",
        "assert time_converter(4733) == '6 53'\n",
        "assert time_converter(1766) == '5 26'\n",
        "assert time_converter(3865) == '16 25'\n",
        "assert time_converter(4628) == '5 8'\n",
        "assert time_converter(4353) == '0 33'\n",
        "assert time_converter(268) == '4 28'\n",
        "assert time_converter(4373) == '0 53'\n",
        "assert time_converter(2722) == '21 22'\n",
        "assert time_converter(1531) == '1 31'"
      ],
      "metadata": {
        "id": "YBeWKbbeYW22"
      },
      "execution_count": 18,
      "outputs": []
    },
    {
      "cell_type": "markdown",
      "source": [
        "2) Написать функцию, которая выводит минимум из трех чисел. Использовать min нельзя. Только if."
      ],
      "metadata": {
        "id": "cfHE4yvmZZDz"
      }
    },
    {
      "cell_type": "code",
      "source": [
        "# Написать функцию min_of_three_values, принимает на вход 3 аргумента\n",
        "def min_of_three_values(a, b, c):\n",
        "    if a <= b and a <= c:\n",
        "      return a\n",
        "    if b <= a and b <= c:\n",
        "      return b\n",
        "    return c\n",
        "\n",
        "\n",
        "assert min_of_three_values(1, 2, 3) == 1\n",
        "assert min_of_three_values(1, 1, 9) == 1\n",
        "assert min_of_three_values(18, 7, 11) == 7\n",
        "assert min_of_three_values(2, 10, 10) == 2\n",
        "assert min_of_three_values(17, 14, 17) == 14\n",
        "assert min_of_three_values(9, 2, 10) == 2\n",
        "assert min_of_three_values(7, 4, 7) == 4\n",
        "assert min_of_three_values(0, 8, 3) == 0\n",
        "assert min_of_three_values(8, 10, 6) == 6\n",
        "assert min_of_three_values(1, 4, 8) == 1"
      ],
      "metadata": {
        "id": "M7JGo68yZc37"
      },
      "execution_count": 20,
      "outputs": []
    },
    {
      "cell_type": "markdown",
      "source": [
        "\n",
        "3) Удаление символа из строки. Необходимо использовать встроенный метод .replace()"
      ],
      "metadata": {
        "id": "utbrbEB4aJFH"
      }
    },
    {
      "cell_type": "code",
      "source": [
        "# Функция remove_symbol принимает два аргумента -- строку и символ, которые необходимо удалить\n",
        "def remove_symbol(input_string, value):\n",
        "    return input_string.replace(value, '')\n",
        "\n",
        "\n",
        "assert remove_symbol('aaaaaaaa', 'a') == ''\n",
        "assert remove_symbol('abababa', 'b') == 'aaaa'\n",
        "assert remove_symbol('12341234', '3') == '124124'"
      ],
      "metadata": {
        "id": "TaEvuHssaKs8"
      },
      "execution_count": 21,
      "outputs": []
    },
    {
      "cell_type": "markdown",
      "source": [
        "4) Удаление каждого 3 символа из строки"
      ],
      "metadata": {
        "id": "aMuyqU9uak6l"
      }
    },
    {
      "cell_type": "code",
      "source": [
        "# Функция remove_each_third_sym принимает один агрумент -- строку.\n",
        "# важно -- мы считаем человеческие индексы (начиная с 1, а не 0)\n",
        "# важно -- оставляем первый аргумент\n",
        "# Необходимо вернуть новую строку\n",
        "def remove_each_third_sym(input_string):\n",
        "    res = []\n",
        "    for i in range(len(input_string)):\n",
        "      if (i + 1) % 3 != 0:\n",
        "        res += [input_string[i]]\n",
        "    return ''.join(res)\n",
        "\n",
        "\n",
        "assert remove_each_third_sym('abcdef') == 'abde'\n",
        "assert remove_each_third_sym('sdfasdfasdfsfa') == 'sdasfadffa'\n",
        "assert remove_each_third_sym('123456789') == '124578'\n",
        "assert remove_each_third_sym('987654321') == '986532'"
      ],
      "metadata": {
        "id": "tFwkLbFYaoYY"
      },
      "execution_count": 22,
      "outputs": []
    },
    {
      "cell_type": "markdown",
      "source": [
        "5) Вывести максимальный элемент и его индекс в листе"
      ],
      "metadata": {
        "id": "k3yrBwS8bpT1"
      }
    },
    {
      "cell_type": "code",
      "source": [
        "# Функция find_max принимает на вход лист\n",
        "# на выходе два числа -- непосредственно максимальное значение и его индекс\n",
        "def find_max(lst):\n",
        "    return max(lst), lst.index(max(lst))\n",
        "\n",
        "\n",
        "assert find_max([1, 2, 3, 4, 5]) == (5, 4)\n",
        "assert find_max([5, 4, 3, 2, 1]) == (5, 0)\n",
        "assert find_max([96, 82, 72, 48, 93, 88, 79]) == (96, 0)\n",
        "assert find_max([49, 75, 65, 65, 65, 18]) == (75, 1)\n",
        "assert find_max([69, 16, 64, 54, 36, 70, 89, 29]) == (89, 6)\n",
        "assert find_max([17, 80, 27, 36, 21, 85, 63, 27]) == (85, 5)\n",
        "assert find_max([76, 27, 73, 65, 52]) == (76, 0)\n",
        "assert find_max([33, 26, 69, 40, 93]) == (93, 4)\n",
        "assert find_max([87, 5, 95, 52, 21, 76, 22]) == (95, 2)\n",
        "assert find_max([75, 18, 89, 99, 70]) == (99, 3)"
      ],
      "metadata": {
        "id": "wU3MxJqFbwpZ"
      },
      "execution_count": 23,
      "outputs": []
    },
    {
      "cell_type": "markdown",
      "source": [
        "6) Вставить элемент в конец листа. Использовать метод append можно и нужно"
      ],
      "metadata": {
        "id": "y-6xJaDWcAh1"
      }
    },
    {
      "cell_type": "code",
      "source": [
        "# функция append_to_list принимает два значения -- лист и значение, которое необходимо вставить в конец листа\n",
        "# функция возвращает обновленный лист\n",
        "def append_to_list(lst, value):\n",
        "    lst.append(value)\n",
        "    return lst\n",
        "\n",
        "\n",
        "assert append_to_list([1, 2], 3) == [1, 2, 3]\n",
        "assert append_to_list([1, 2], None) == [1, 2, None]\n",
        "assert append_to_list([1, 's'], True) == [1, 's', True]"
      ],
      "metadata": {
        "id": "9YQuBNvqcCli"
      },
      "execution_count": 24,
      "outputs": []
    },
    {
      "cell_type": "markdown",
      "source": [
        "7) Количество уникальных чисел в листе. Нужно использовать множества (set)"
      ],
      "metadata": {
        "id": "kDAKiT-kcUMm"
      }
    },
    {
      "cell_type": "code",
      "source": [
        "# функция number_unique_elements принимает на вход лист\n",
        "# на выходе одно число -- количество уникальных элементов\n",
        "def number_unique_elements(lst):\n",
        "    return len(set(lst))\n",
        "\n",
        "\n",
        "assert number_unique_elements([1, 2, 3]) == 3\n",
        "assert number_unique_elements([1, 2, 1]) == 2\n",
        "assert number_unique_elements([1, 1, 1, 1]) == 1\n",
        "assert number_unique_elements([1, 2, 1, 2]) == 2"
      ],
      "metadata": {
        "id": "JT-W7C3dcWHk"
      },
      "execution_count": 25,
      "outputs": []
    },
    {
      "cell_type": "markdown",
      "source": [
        "*3. Классы*"
      ],
      "metadata": {
        "id": "siMjYvNWculw"
      }
    },
    {
      "cell_type": "markdown",
      "source": [
        "Напишите класс Vehicle с двумя атрибутами -- максимальная скорость (max_speed) и пробег (mileage)\n",
        "Необходимо реализовать только метод-конструктор __init__"
      ],
      "metadata": {
        "id": "rkqBvHq4cwNh"
      }
    },
    {
      "cell_type": "code",
      "source": [
        "class Vehicle:\n",
        "    def __init__(self, max_speed, mileage):\n",
        "      self.max_speed = max_speed\n",
        "      self.mileage = mileage\n",
        "\n",
        "\n",
        "veh1 = Vehicle(100, 50)\n",
        "assert (veh1.max_speed, veh1.mileage) == (100, 50)\n",
        "\n",
        "veh2 = Vehicle(200, 3)\n",
        "assert (veh2.max_speed, veh2.mileage) == (200, 3)"
      ],
      "metadata": {
        "id": "DTjTR_gFcysg"
      },
      "execution_count": 26,
      "outputs": []
    },
    {
      "cell_type": "markdown",
      "source": [
        "Напишите класс Truck, который наследуется от Vehicle\n",
        "P.S. Наследование возможно при помощи конструкции class Subclass(MotherClass):"
      ],
      "metadata": {
        "id": "sx3iDANadJ70"
      }
    },
    {
      "cell_type": "code",
      "source": [
        "class Truck(Vehicle):\n",
        "    def __init__(self, max_speed, mileage):\n",
        "      super().__init__(max_speed, mileage)\n",
        "\n",
        "\n",
        "truck1 = Truck(50, 1000)\n",
        "assert (truck1.max_speed, truck1.mileage) == (50, 1000)\n",
        "\n",
        "truck2 = Truck(43, 235)\n",
        "assert (truck2.max_speed, truck2.mileage) == (43, 235)"
      ],
      "metadata": {
        "id": "_AirOIQ6dKl1"
      },
      "execution_count": 27,
      "outputs": []
    },
    {
      "cell_type": "markdown",
      "source": [
        "Напишите класс MyList с функционалом, как описано ниже"
      ],
      "metadata": {
        "id": "Xej0Y1FFduMg"
      }
    },
    {
      "cell_type": "code",
      "source": [
        "class MyList:\n",
        "    def __init__(self, lst):\n",
        "        self.lst = lst\n",
        "\n",
        "    def return_sum(self):\n",
        "        \"\"\"\n",
        "        Возвращает сумму всех элементов сохраненного листа.\n",
        "        Пользоваться sum нельзя!\n",
        "        \"\"\"\n",
        "        s = 0\n",
        "        for i in self.lst:\n",
        "          s += i\n",
        "        return s\n",
        "\n",
        "    def make_reverse(self):\n",
        "        \"\"\"\n",
        "        Разворачивает сохраненный лист.\n",
        "        \"\"\"\n",
        "        return self.lst[::-1]\n",
        "\n",
        "    def make_slice(self, start, stop):\n",
        "        \"\"\"\n",
        "        Делает слайсинг сохраненного листа.\n",
        "        \"\"\"\n",
        "        return self.lst[start:stop]\n",
        "\n",
        "\n",
        "a = MyList([1, 2, 3, 4])\n",
        "assert a.return_sum() == 10\n",
        "assert a.make_reverse() == [4, 3, 2, 1]\n",
        "assert a.make_slice(0, 2) == [1, 2]\n",
        "\n",
        "b = MyList([5, 6, 6, 5])\n",
        "assert b.return_sum() == 22\n",
        "assert b.make_reverse() == [5, 6, 6, 5]\n",
        "assert b.make_slice(1, 2) == [6]"
      ],
      "metadata": {
        "id": "XJyPHPZSduyr"
      },
      "execution_count": 28,
      "outputs": []
    }
  ]
}